{
 "cells": [
  {
   "cell_type": "code",
   "execution_count": 22,
   "metadata": {},
   "outputs": [],
   "source": [
    "import sympy"
   ]
  },
  {
   "cell_type": "code",
   "execution_count": 23,
   "metadata": {},
   "outputs": [],
   "source": [
    "dhat = sympy.Symbol('\\hat{d}')\n",
    "d = sympy.Symbol('d')\n",
    "dmin = sympy.Symbol('d_{\\\\text{min}}')"
   ]
  },
  {
   "cell_type": "code",
   "execution_count": 24,
   "metadata": {},
   "outputs": [
    {
     "data": {
      "text/latex": [
       "$\\displaystyle - \\left(- \\hat{d} + d\\right)^{2} \\log{\\left(\\frac{d}{\\hat{d}} \\right)}$"
      ],
      "text/plain": [
       "-(-\\hat{d} + d)**2*log(d/\\hat{d})"
      ]
     },
     "metadata": {},
     "output_type": "display_data"
    },
    {
     "data": {
      "text/latex": [
       "$\\displaystyle - \\left(-1 + \\frac{d}{\\hat{d}}\\right)^{2} \\log{\\left(\\frac{d}{\\hat{d}} \\right)}$"
      ],
      "text/plain": [
       "-(-1 + d/\\hat{d})**2*log(d/\\hat{d})"
      ]
     },
     "metadata": {},
     "output_type": "display_data"
    },
    {
     "data": {
      "text/latex": [
       "$\\displaystyle - \\hat{d} \\left(-1 + \\frac{d}{\\hat{d}}\\right)^{2} \\log{\\left(\\frac{d}{\\hat{d}} \\right)}$"
      ],
      "text/plain": [
       "-\\hat{d}*(-1 + d/\\hat{d})**2*log(d/\\hat{d})"
      ]
     },
     "metadata": {},
     "output_type": "display_data"
    }
   ],
   "source": [
    "def barrier(d, dhat):\n",
    "    return -(d - dhat)**2 * sympy.log(d/dhat)\n",
    "\n",
    "def normalized_barrier(d, dhat):\n",
    "    return -(d/dhat - 1)**2 * sympy.log(d/dhat)\n",
    "\n",
    "def physical_barrier(d, p_dhat):\n",
    "    return dhat * normalized_barrier(d, p_dhat)\n",
    "\n",
    "display(barrier(d, dhat), normalized_barrier(d, dhat), physical_barrier(d, dhat))"
   ]
  },
  {
   "cell_type": "code",
   "execution_count": 25,
   "metadata": {},
   "outputs": [
    {
     "data": {
      "text/latex": [
       "$\\displaystyle \\frac{1}{\\hat{d}}$"
      ],
      "text/plain": [
       "1/\\hat{d}"
      ]
     },
     "execution_count": 25,
     "metadata": {},
     "output_type": "execute_result"
    }
   ],
   "source": [
    "(physical_barrier(d, dhat) / barrier(d, dhat)).simplify()"
   ]
  },
  {
   "cell_type": "code",
   "execution_count": 26,
   "metadata": {},
   "outputs": [
    {
     "data": {
      "text/latex": [
       "$\\displaystyle \\frac{1}{\\hat{d}^{3}}$"
      ],
      "text/plain": [
       "\\hat{d}**(-3)"
      ]
     },
     "execution_count": 26,
     "metadata": {},
     "output_type": "execute_result"
    }
   ],
   "source": [
    "(physical_barrier(d**2, dhat**2) / barrier(d**2, dhat**2)).simplify()"
   ]
  },
  {
   "cell_type": "code",
   "execution_count": 27,
   "metadata": {},
   "outputs": [
    {
     "data": {
      "text/latex": [
       "$\\displaystyle \\frac{1}{\\hat{d} \\left(\\hat{d} + 2 d_{\\text{min}}\\right)^{2}}$"
      ],
      "text/plain": [
       "1/(\\hat{d}*(\\hat{d} + 2*d_{\\text{min}})**2)"
      ]
     },
     "execution_count": 27,
     "metadata": {},
     "output_type": "execute_result"
    }
   ],
   "source": [
    "d_param = d**2 - dmin**2\n",
    "dhat_param = 2 * dmin * dhat + dhat**2\n",
    "(physical_barrier(d_param, dhat_param) / barrier(d_param, dhat_param)).simplify()"
   ]
  }
 ],
 "metadata": {
  "kernelspec": {
   "display_name": "Python 3",
   "language": "python",
   "name": "python3"
  },
  "language_info": {
   "codemirror_mode": {
    "name": "ipython",
    "version": 3
   },
   "file_extension": ".py",
   "mimetype": "text/x-python",
   "name": "python",
   "nbconvert_exporter": "python",
   "pygments_lexer": "ipython3",
   "version": "3.11.2"
  },
  "orig_nbformat": 4
 },
 "nbformat": 4,
 "nbformat_minor": 2
}
