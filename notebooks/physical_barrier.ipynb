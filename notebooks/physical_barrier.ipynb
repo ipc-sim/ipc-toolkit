{
 "cells": [
  {
   "cell_type": "code",
   "execution_count": 64,
   "metadata": {},
   "outputs": [],
   "source": [
    "import sympy\n",
    "from generate_cpp_code import *"
   ]
  },
  {
   "cell_type": "code",
   "execution_count": 65,
   "metadata": {},
   "outputs": [],
   "source": [
    "dhat = sympy.Symbol(r'\\hat{d}')\n",
    "d = sympy.Symbol('d')\n",
    "dmin = sympy.Symbol('d_{\\\\text{min}}')"
   ]
  },
  {
   "cell_type": "code",
   "execution_count": 66,
   "metadata": {},
   "outputs": [
    {
     "data": {
      "text/latex": [
       "$\\displaystyle - \\left(- \\hat{d} + d\\right)^{2} \\log{\\left(\\frac{d}{\\hat{d}} \\right)}$"
      ],
      "text/plain": [
       "-(-\\hat{d} + d)**2*log(d/\\hat{d})"
      ]
     },
     "metadata": {},
     "output_type": "display_data"
    },
    {
     "data": {
      "text/latex": [
       "$\\displaystyle - \\left(-1 + \\frac{d}{\\hat{d}}\\right)^{2} \\log{\\left(\\frac{d}{\\hat{d}} \\right)}$"
      ],
      "text/plain": [
       "-(-1 + d/\\hat{d})**2*log(d/\\hat{d})"
      ]
     },
     "metadata": {},
     "output_type": "display_data"
    },
    {
     "data": {
      "text/latex": [
       "$\\displaystyle - \\hat{d} \\left(-1 + \\frac{d}{\\hat{d}}\\right)^{2} \\log{\\left(\\frac{d}{\\hat{d}} \\right)}$"
      ],
      "text/plain": [
       "-\\hat{d}*(-1 + d/\\hat{d})**2*log(d/\\hat{d})"
      ]
     },
     "metadata": {},
     "output_type": "display_data"
    },
    {
     "data": {
      "text/latex": [
       "$\\displaystyle \\left(- \\hat{d} + d\\right)^{2} \\log{\\left(\\frac{d}{\\hat{d}} \\right)}^{2}$"
      ],
      "text/plain": [
       "(-\\hat{d} + d)**2*log(d/\\hat{d})**2"
      ]
     },
     "metadata": {},
     "output_type": "display_data"
    }
   ],
   "source": [
    "def barrier(d, dhat):\n",
    "    return -(d - dhat)**2 * sympy.log(d/dhat)\n",
    "\n",
    "\n",
    "def normalized_barrier(d, dhat):\n",
    "    return -(d/dhat - 1)**2 * sympy.log(d/dhat)\n",
    "\n",
    "\n",
    "def physical_barrier(d, p_dhat):\n",
    "    return dhat * normalized_barrier(d, p_dhat)\n",
    "\n",
    "\n",
    "def log_sq_barrier(d, dhat):\n",
    "    return (d - dhat)**2 * sympy.log(d/dhat)**2\n",
    "\n",
    "\n",
    "display(\n",
    "    barrier(d, dhat),\n",
    "    normalized_barrier(d, dhat),\n",
    "    physical_barrier(d, dhat),\n",
    "    log_sq_barrier(d, dhat)\n",
    ")"
   ]
  },
  {
   "cell_type": "code",
   "execution_count": 67,
   "metadata": {},
   "outputs": [
    {
     "data": {
      "text/latex": [
       "$\\displaystyle \\frac{1}{\\hat{d}}$"
      ],
      "text/plain": [
       "1/\\hat{d}"
      ]
     },
     "execution_count": 67,
     "metadata": {},
     "output_type": "execute_result"
    }
   ],
   "source": [
    "(physical_barrier(d, dhat) / barrier(d, dhat)).simplify()"
   ]
  },
  {
   "cell_type": "code",
   "execution_count": 68,
   "metadata": {},
   "outputs": [
    {
     "data": {
      "text/latex": [
       "$\\displaystyle \\frac{1}{\\hat{d}^{3}}$"
      ],
      "text/plain": [
       "\\hat{d}**(-3)"
      ]
     },
     "execution_count": 68,
     "metadata": {},
     "output_type": "execute_result"
    }
   ],
   "source": [
    "(physical_barrier(d**2, dhat**2) / barrier(d**2, dhat**2)).simplify()"
   ]
  },
  {
   "cell_type": "code",
   "execution_count": 69,
   "metadata": {},
   "outputs": [
    {
     "data": {
      "text/latex": [
       "$\\displaystyle \\frac{1}{\\hat{d} \\left(\\hat{d} + 2 d_{\\text{min}}\\right)^{2}}$"
      ],
      "text/plain": [
       "1/(\\hat{d}*(\\hat{d} + 2*d_{\\text{min}})**2)"
      ]
     },
     "execution_count": 69,
     "metadata": {},
     "output_type": "execute_result"
    }
   ],
   "source": [
    "d_param = d**2 - dmin**2\n",
    "dhat_param = 2 * dmin * dhat + dhat**2\n",
    "(physical_barrier(d_param, dhat_param) / barrier(d_param, dhat_param)).simplify()"
   ]
  },
  {
   "cell_type": "markdown",
   "metadata": {},
   "source": [
    "## Code Generation"
   ]
  },
  {
   "cell_type": "code",
   "execution_count": 70,
   "metadata": {},
   "outputs": [
    {
     "name": "stdout",
     "output_type": "stream",
     "text": [
      "const auto t0 = d/dhat;\n",
      "return -std::pow(1 - t0, 2)*std::log(t0);\n"
     ]
    }
   ],
   "source": [
    "print(generate_code(normalized_barrier(\n",
    "    d, dhat)).replace(r\"\\hat{d}\", \"dhat\"))"
   ]
  },
  {
   "cell_type": "code",
   "execution_count": 71,
   "metadata": {},
   "outputs": [
    {
     "name": "stdout",
     "output_type": "stream",
     "text": [
      "const auto t0 = 1.0/dhat;\n",
      "const auto t1 = d*t0;\n",
      "const auto t2 = 1 - t1;\n",
      "return t2*(2*t0*std::log(t1) - t2/d);\n"
     ]
    }
   ],
   "source": [
    "print(generate_code(normalized_barrier(d, dhat).diff(\n",
    "    d)).replace(r\"\\hat{d}\", \"dhat\"))"
   ]
  },
  {
   "cell_type": "code",
   "execution_count": 72,
   "metadata": {},
   "outputs": [
    {
     "name": "stdout",
     "output_type": "stream",
     "text": [
      "const auto t0 = 1.0/dhat;\n",
      "const auto t1 = d*t0;\n",
      "const auto t2 = 1 - t1;\n",
      "return 4*t0*t2/d + std::pow(t2, 2)/std::pow(d, 2) - 2*std::log(t1)/std::pow(dhat, 2);\n"
     ]
    }
   ],
   "source": [
    "print(generate_code(normalized_barrier(d, dhat).diff(\n",
    "    d).diff(d)).replace(r\"\\hat{d}\", \"dhat\"))"
   ]
  },
  {
   "cell_type": "code",
   "execution_count": 73,
   "metadata": {},
   "outputs": [
    {
     "name": "stdout",
     "output_type": "stream",
     "text": [
      "const auto t0 = std::log(d/dhat);\n",
      "const auto t1 = dhat - d;\n",
      "const auto t2 = std::pow(t1, 2)/std::pow(d, 2);\n",
      "return 2*std::pow(t0, 2) - 2*t0*t2 + 2*t2 - 8*t0*t1/d;\n"
     ]
    }
   ],
   "source": [
    "print(generate_code(log_sq_barrier(\n",
    "    d, dhat).diff(d).diff(d)).replace(r\"\\hat{d}\", \"dhat\"))"
   ]
  },
  {
   "cell_type": "code",
   "execution_count": null,
   "metadata": {},
   "outputs": [],
   "source": []
  }
 ],
 "metadata": {
  "kernelspec": {
   "display_name": "Python 3",
   "language": "python",
   "name": "python3"
  },
  "language_info": {
   "codemirror_mode": {
    "name": "ipython",
    "version": 3
   },
   "file_extension": ".py",
   "mimetype": "text/x-python",
   "name": "python",
   "nbconvert_exporter": "python",
   "pygments_lexer": "ipython3",
   "version": "3.12.7"
  },
  "orig_nbformat": 4
 },
 "nbformat": 4,
 "nbformat_minor": 2
}
