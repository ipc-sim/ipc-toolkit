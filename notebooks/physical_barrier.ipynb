{
 "cells": [
  {
   "cell_type": "code",
   "execution_count": 13,
   "metadata": {},
   "outputs": [],
   "source": [
    "import sympy\n",
    "from generate_cpp_code import *"
   ]
  },
  {
   "cell_type": "code",
   "execution_count": 14,
   "metadata": {},
   "outputs": [],
   "source": [
    "dhat = sympy.Symbol('\\hat{d}')\n",
    "d = sympy.Symbol('d')\n",
    "dmin = sympy.Symbol('d_{\\\\text{min}}')"
   ]
  },
  {
   "cell_type": "code",
   "execution_count": 15,
   "metadata": {},
   "outputs": [
    {
     "data": {
      "text/latex": [
       "$\\displaystyle - \\left(- \\hat{d} + d\\right)^{2} \\log{\\left(\\frac{d}{\\hat{d}} \\right)}$"
      ],
      "text/plain": [
       "-(-\\hat{d} + d)**2*log(d/\\hat{d})"
      ]
     },
     "metadata": {},
     "output_type": "display_data"
    },
    {
     "data": {
      "text/latex": [
       "$\\displaystyle - \\left(-1 + \\frac{d}{\\hat{d}}\\right)^{2} \\log{\\left(\\frac{d}{\\hat{d}} \\right)}$"
      ],
      "text/plain": [
       "-(-1 + d/\\hat{d})**2*log(d/\\hat{d})"
      ]
     },
     "metadata": {},
     "output_type": "display_data"
    },
    {
     "data": {
      "text/latex": [
       "$\\displaystyle - \\hat{d} \\left(-1 + \\frac{d}{\\hat{d}}\\right)^{2} \\log{\\left(\\frac{d}{\\hat{d}} \\right)}$"
      ],
      "text/plain": [
       "-\\hat{d}*(-1 + d/\\hat{d})**2*log(d/\\hat{d})"
      ]
     },
     "metadata": {},
     "output_type": "display_data"
    }
   ],
   "source": [
    "def barrier(d, dhat):\n",
    "    return -(d - dhat)**2 * sympy.log(d/dhat)\n",
    "\n",
    "def normalized_barrier(d, dhat):\n",
    "    return -(d/dhat - 1)**2 * sympy.log(d/dhat)\n",
    "\n",
    "def physical_barrier(d, p_dhat):\n",
    "    return dhat * normalized_barrier(d, p_dhat)\n",
    "\n",
    "display(barrier(d, dhat), normalized_barrier(d, dhat), physical_barrier(d, dhat))"
   ]
  },
  {
   "cell_type": "code",
   "execution_count": 16,
   "metadata": {},
   "outputs": [
    {
     "data": {
      "text/latex": [
       "$\\displaystyle \\frac{1}{\\hat{d}}$"
      ],
      "text/plain": [
       "1/\\hat{d}"
      ]
     },
     "execution_count": 16,
     "metadata": {},
     "output_type": "execute_result"
    }
   ],
   "source": [
    "(physical_barrier(d, dhat) / barrier(d, dhat)).simplify()"
   ]
  },
  {
   "cell_type": "code",
   "execution_count": 17,
   "metadata": {},
   "outputs": [
    {
     "data": {
      "text/latex": [
       "$\\displaystyle \\frac{1}{\\hat{d}^{3}}$"
      ],
      "text/plain": [
       "\\hat{d}**(-3)"
      ]
     },
     "execution_count": 17,
     "metadata": {},
     "output_type": "execute_result"
    }
   ],
   "source": [
    "(physical_barrier(d**2, dhat**2) / barrier(d**2, dhat**2)).simplify()"
   ]
  },
  {
   "cell_type": "code",
   "execution_count": 18,
   "metadata": {},
   "outputs": [
    {
     "data": {
      "text/latex": [
       "$\\displaystyle \\frac{1}{\\hat{d} \\left(\\hat{d} + 2 d_{\\text{min}}\\right)^{2}}$"
      ],
      "text/plain": [
       "1/(\\hat{d}*(\\hat{d} + 2*d_{\\text{min}})**2)"
      ]
     },
     "execution_count": 18,
     "metadata": {},
     "output_type": "execute_result"
    }
   ],
   "source": [
    "d_param = d**2 - dmin**2\n",
    "dhat_param = 2 * dmin * dhat + dhat**2\n",
    "(physical_barrier(d_param, dhat_param) / barrier(d_param, dhat_param)).simplify()"
   ]
  },
  {
   "cell_type": "code",
   "execution_count": 20,
   "metadata": {},
   "outputs": [
    {
     "name": "stdout",
     "output_type": "stream",
     "text": [
      "const auto t0 = d/dhat;\n",
      "r = -std::pow(1 - t0, 2)*std::log(t0);\n"
     ]
    }
   ],
   "source": [
    "print(generate_code(normalized_barrier(d, dhat), \"r\").replace(\"\\hat{d}\", \"dhat\"))"
   ]
  },
  {
   "cell_type": "code",
   "execution_count": null,
   "metadata": {},
   "outputs": [
    {
     "name": "stdout",
     "output_type": "stream",
     "text": [
      "const auto t0 = 1.0/dhat;\n",
      "const auto t1 = d*t0;\n",
      "const auto t2 = 1 - t1;\n",
      "r = t2*(2*t0*std::log(t1) - t2/d);\n"
     ]
    }
   ],
   "source": [
    "print(generate_code(normalized_barrier(d, dhat).diff(d), \"r\").replace(\"\\hat{d}\", \"dhat\"))"
   ]
  },
  {
   "cell_type": "code",
   "execution_count": null,
   "metadata": {},
   "outputs": [
    {
     "name": "stdout",
     "output_type": "stream",
     "text": [
      "const auto t0 = 1.0/dhat;\n",
      "const auto t1 = d*t0;\n",
      "const auto t2 = 1 - t1;\n",
      "r = 4*t0*t2/d + std::pow(t2, 2)/std::pow(d, 2) - 2*std::log(t1)/std::pow(dhat, 2);\n"
     ]
    }
   ],
   "source": [
    "print(generate_code(normalized_barrier(d, dhat).diff(d).diff(d), \"r\").replace(\"\\hat{d}\", \"dhat\"))"
   ]
  },
  {
   "cell_type": "code",
   "execution_count": null,
   "metadata": {},
   "outputs": [],
   "source": []
  }
 ],
 "metadata": {
  "kernelspec": {
   "display_name": "Python 3",
   "language": "python",
   "name": "python3"
  },
  "language_info": {
   "codemirror_mode": {
    "name": "ipython",
    "version": 3
   },
   "file_extension": ".py",
   "mimetype": "text/x-python",
   "name": "python",
   "nbconvert_exporter": "python",
   "pygments_lexer": "ipython3",
   "version": "3.11.2"
  },
  "orig_nbformat": 4
 },
 "nbformat": 4,
 "nbformat_minor": 2
}
