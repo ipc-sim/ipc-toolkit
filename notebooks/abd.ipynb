{
 "cells": [
  {
   "cell_type": "code",
   "execution_count": 237,
   "metadata": {},
   "outputs": [],
   "source": [
    "import sympy\n",
    "import numpy as np"
   ]
  },
  {
   "cell_type": "code",
   "execution_count": 238,
   "metadata": {},
   "outputs": [
    {
     "data": {
      "text/latex": [
       "$\\displaystyle \\left[\\begin{matrix}a_{1x} & a_{1y} & a_{1z}\\\\a_{2x} & a_{2y} & a_{2z}\\\\a_{3x} & a_{3y} & a_{3z}\\end{matrix}\\right]$"
      ],
      "text/plain": [
       "Matrix([\n",
       "[a_{1x}, a_{1y}, a_{1z}],\n",
       "[a_{2x}, a_{2y}, a_{2z}],\n",
       "[a_{3x}, a_{3y}, a_{3z}]])"
      ]
     },
     "metadata": {},
     "output_type": "display_data"
    }
   ],
   "source": [
    "A = sympy.symbols([f\"a_{{{i}{j}}}\" for i in range(1, 4) for j in \"xyz\"])\n",
    "A = np.array(A).reshape(3, 3)\n",
    "display(sympy.Matrix(A))"
   ]
  },
  {
   "cell_type": "code",
   "execution_count": 239,
   "metadata": {},
   "outputs": [],
   "source": [
    "def frobenius_norm(A):\n",
    "    sum = 0\n",
    "    for i in range(A.shape[0]):\n",
    "        for j in range(A.shape[1]):\n",
    "            sum += A[i, j]**2\n",
    "    return sympy.sqrt(sum)\n",
    "\n",
    "standard_version = frobenius_norm(A @ A.T - np.eye(3))**2"
   ]
  },
  {
   "cell_type": "code",
   "execution_count": 240,
   "metadata": {},
   "outputs": [],
   "source": [
    "paper_version = sum((A[i].dot(A[i]) - 1)**2 for i in range(3)) \\\n",
    " + sum((A[i].dot(A[j]))**2 for i in range(3) for j in range(3) if i != j)"
   ]
  },
  {
   "cell_type": "code",
   "execution_count": 241,
   "metadata": {},
   "outputs": [
    {
     "data": {
      "text/latex": [
       "$\\displaystyle 0$"
      ],
      "text/plain": [
       "0"
      ]
     },
     "execution_count": 241,
     "metadata": {},
     "output_type": "execute_result"
    }
   ],
   "source": [
    "(standard_version - paper_version).simplify()"
   ]
  },
  {
   "cell_type": "code",
   "execution_count": 242,
   "metadata": {},
   "outputs": [
    {
     "data": {
      "text/latex": [
       "$\\displaystyle 12 a_{1x}^{2} + 4 a_{1y}^{2} + 4 a_{1z}^{2} + 4 a_{2x}^{2} + 4 a_{3x}^{2} - 4.0$"
      ],
      "text/plain": [
       "12*a_{1x}**2 + 4*a_{1y}**2 + 4*a_{1z}**2 + 4*a_{2x}**2 + 4*a_{3x}**2 - 4.0"
      ]
     },
     "metadata": {},
     "output_type": "display_data"
    },
    {
     "data": {
      "text/latex": [
       "$\\displaystyle 8 a_{1x} a_{1y} + 4 a_{2x} a_{2y} + 4 a_{3x} a_{3y}$"
      ],
      "text/plain": [
       "8*a_{1x}*a_{1y} + 4*a_{2x}*a_{2y} + 4*a_{3x}*a_{3y}"
      ]
     },
     "metadata": {},
     "output_type": "display_data"
    },
    {
     "data": {
      "text/latex": [
       "$\\displaystyle 8 a_{1x} a_{1z} + 4 a_{2x} a_{2z} + 4 a_{3x} a_{3z}$"
      ],
      "text/plain": [
       "8*a_{1x}*a_{1z} + 4*a_{2x}*a_{2z} + 4*a_{3x}*a_{3z}"
      ]
     },
     "metadata": {},
     "output_type": "display_data"
    },
    {
     "data": {
      "text/latex": [
       "$\\displaystyle 8 a_{1x} a_{2x} + 4 a_{1y} a_{2y} + 4 a_{1z} a_{2z}$"
      ],
      "text/plain": [
       "8*a_{1x}*a_{2x} + 4*a_{1y}*a_{2y} + 4*a_{1z}*a_{2z}"
      ]
     },
     "metadata": {},
     "output_type": "display_data"
    },
    {
     "data": {
      "text/latex": [
       "$\\displaystyle 4 a_{1y} a_{2x}$"
      ],
      "text/plain": [
       "4*a_{1y}*a_{2x}"
      ]
     },
     "metadata": {},
     "output_type": "display_data"
    },
    {
     "data": {
      "text/latex": [
       "$\\displaystyle 4 a_{1z} a_{2x}$"
      ],
      "text/plain": [
       "4*a_{1z}*a_{2x}"
      ]
     },
     "metadata": {},
     "output_type": "display_data"
    },
    {
     "data": {
      "text/latex": [
       "$\\displaystyle 8 a_{1x} a_{3x} + 4 a_{1y} a_{3y} + 4 a_{1z} a_{3z}$"
      ],
      "text/plain": [
       "8*a_{1x}*a_{3x} + 4*a_{1y}*a_{3y} + 4*a_{1z}*a_{3z}"
      ]
     },
     "metadata": {},
     "output_type": "display_data"
    },
    {
     "data": {
      "text/latex": [
       "$\\displaystyle 4 a_{1y} a_{3x}$"
      ],
      "text/plain": [
       "4*a_{1y}*a_{3x}"
      ]
     },
     "metadata": {},
     "output_type": "display_data"
    },
    {
     "data": {
      "text/latex": [
       "$\\displaystyle 4 a_{1z} a_{3x}$"
      ],
      "text/plain": [
       "4*a_{1z}*a_{3x}"
      ]
     },
     "metadata": {},
     "output_type": "display_data"
    },
    {
     "data": {
      "text/latex": [
       "$\\displaystyle 8 a_{1x} a_{1y} + 4 a_{2x} a_{2y} + 4 a_{3x} a_{3y}$"
      ],
      "text/plain": [
       "8*a_{1x}*a_{1y} + 4*a_{2x}*a_{2y} + 4*a_{3x}*a_{3y}"
      ]
     },
     "metadata": {},
     "output_type": "display_data"
    },
    {
     "data": {
      "text/latex": [
       "$\\displaystyle 4 a_{1x}^{2} + 12 a_{1y}^{2} + 4 a_{1z}^{2} + 4 a_{2y}^{2} + 4 a_{3y}^{2} - 4.0$"
      ],
      "text/plain": [
       "4*a_{1x}**2 + 12*a_{1y}**2 + 4*a_{1z}**2 + 4*a_{2y}**2 + 4*a_{3y}**2 - 4.0"
      ]
     },
     "metadata": {},
     "output_type": "display_data"
    },
    {
     "data": {
      "text/latex": [
       "$\\displaystyle 8 a_{1y} a_{1z} + 4 a_{2y} a_{2z} + 4 a_{3y} a_{3z}$"
      ],
      "text/plain": [
       "8*a_{1y}*a_{1z} + 4*a_{2y}*a_{2z} + 4*a_{3y}*a_{3z}"
      ]
     },
     "metadata": {},
     "output_type": "display_data"
    },
    {
     "data": {
      "text/latex": [
       "$\\displaystyle 4 a_{1x} a_{2y}$"
      ],
      "text/plain": [
       "4*a_{1x}*a_{2y}"
      ]
     },
     "metadata": {},
     "output_type": "display_data"
    },
    {
     "data": {
      "text/latex": [
       "$\\displaystyle 4 a_{1x} a_{2x} + 8 a_{1y} a_{2y} + 4 a_{1z} a_{2z}$"
      ],
      "text/plain": [
       "4*a_{1x}*a_{2x} + 8*a_{1y}*a_{2y} + 4*a_{1z}*a_{2z}"
      ]
     },
     "metadata": {},
     "output_type": "display_data"
    },
    {
     "data": {
      "text/latex": [
       "$\\displaystyle 4 a_{1z} a_{2y}$"
      ],
      "text/plain": [
       "4*a_{1z}*a_{2y}"
      ]
     },
     "metadata": {},
     "output_type": "display_data"
    },
    {
     "data": {
      "text/latex": [
       "$\\displaystyle 4 a_{1x} a_{3y}$"
      ],
      "text/plain": [
       "4*a_{1x}*a_{3y}"
      ]
     },
     "metadata": {},
     "output_type": "display_data"
    },
    {
     "data": {
      "text/latex": [
       "$\\displaystyle 4 a_{1x} a_{3x} + 8 a_{1y} a_{3y} + 4 a_{1z} a_{3z}$"
      ],
      "text/plain": [
       "4*a_{1x}*a_{3x} + 8*a_{1y}*a_{3y} + 4*a_{1z}*a_{3z}"
      ]
     },
     "metadata": {},
     "output_type": "display_data"
    },
    {
     "data": {
      "text/latex": [
       "$\\displaystyle 4 a_{1z} a_{3y}$"
      ],
      "text/plain": [
       "4*a_{1z}*a_{3y}"
      ]
     },
     "metadata": {},
     "output_type": "display_data"
    },
    {
     "data": {
      "text/latex": [
       "$\\displaystyle 8 a_{1x} a_{1z} + 4 a_{2x} a_{2z} + 4 a_{3x} a_{3z}$"
      ],
      "text/plain": [
       "8*a_{1x}*a_{1z} + 4*a_{2x}*a_{2z} + 4*a_{3x}*a_{3z}"
      ]
     },
     "metadata": {},
     "output_type": "display_data"
    },
    {
     "data": {
      "text/latex": [
       "$\\displaystyle 8 a_{1y} a_{1z} + 4 a_{2y} a_{2z} + 4 a_{3y} a_{3z}$"
      ],
      "text/plain": [
       "8*a_{1y}*a_{1z} + 4*a_{2y}*a_{2z} + 4*a_{3y}*a_{3z}"
      ]
     },
     "metadata": {},
     "output_type": "display_data"
    },
    {
     "data": {
      "text/latex": [
       "$\\displaystyle 4 a_{1x}^{2} + 4 a_{1y}^{2} + 12 a_{1z}^{2} + 4 a_{2z}^{2} + 4 a_{3z}^{2} - 4.0$"
      ],
      "text/plain": [
       "4*a_{1x}**2 + 4*a_{1y}**2 + 12*a_{1z}**2 + 4*a_{2z}**2 + 4*a_{3z}**2 - 4.0"
      ]
     },
     "metadata": {},
     "output_type": "display_data"
    },
    {
     "data": {
      "text/latex": [
       "$\\displaystyle 4 a_{1x} a_{2z}$"
      ],
      "text/plain": [
       "4*a_{1x}*a_{2z}"
      ]
     },
     "metadata": {},
     "output_type": "display_data"
    },
    {
     "data": {
      "text/latex": [
       "$\\displaystyle 4 a_{1y} a_{2z}$"
      ],
      "text/plain": [
       "4*a_{1y}*a_{2z}"
      ]
     },
     "metadata": {},
     "output_type": "display_data"
    },
    {
     "data": {
      "text/latex": [
       "$\\displaystyle 4 a_{1x} a_{2x} + 4 a_{1y} a_{2y} + 8 a_{1z} a_{2z}$"
      ],
      "text/plain": [
       "4*a_{1x}*a_{2x} + 4*a_{1y}*a_{2y} + 8*a_{1z}*a_{2z}"
      ]
     },
     "metadata": {},
     "output_type": "display_data"
    },
    {
     "data": {
      "text/latex": [
       "$\\displaystyle 4 a_{1x} a_{3z}$"
      ],
      "text/plain": [
       "4*a_{1x}*a_{3z}"
      ]
     },
     "metadata": {},
     "output_type": "display_data"
    },
    {
     "data": {
      "text/latex": [
       "$\\displaystyle 4 a_{1y} a_{3z}$"
      ],
      "text/plain": [
       "4*a_{1y}*a_{3z}"
      ]
     },
     "metadata": {},
     "output_type": "display_data"
    },
    {
     "data": {
      "text/latex": [
       "$\\displaystyle 4 a_{1x} a_{3x} + 4 a_{1y} a_{3y} + 8 a_{1z} a_{3z}$"
      ],
      "text/plain": [
       "4*a_{1x}*a_{3x} + 4*a_{1y}*a_{3y} + 8*a_{1z}*a_{3z}"
      ]
     },
     "metadata": {},
     "output_type": "display_data"
    },
    {
     "data": {
      "text/latex": [
       "$\\displaystyle 8 a_{1x} a_{2x} + 4 a_{1y} a_{2y} + 4 a_{1z} a_{2z}$"
      ],
      "text/plain": [
       "8*a_{1x}*a_{2x} + 4*a_{1y}*a_{2y} + 4*a_{1z}*a_{2z}"
      ]
     },
     "metadata": {},
     "output_type": "display_data"
    },
    {
     "data": {
      "text/latex": [
       "$\\displaystyle 4 a_{1x} a_{2y}$"
      ],
      "text/plain": [
       "4*a_{1x}*a_{2y}"
      ]
     },
     "metadata": {},
     "output_type": "display_data"
    },
    {
     "data": {
      "text/latex": [
       "$\\displaystyle 4 a_{1x} a_{2z}$"
      ],
      "text/plain": [
       "4*a_{1x}*a_{2z}"
      ]
     },
     "metadata": {},
     "output_type": "display_data"
    },
    {
     "data": {
      "text/latex": [
       "$\\displaystyle 4 a_{1x}^{2} + 12 a_{2x}^{2} + 4 a_{2y}^{2} + 4 a_{2z}^{2} + 4 a_{3x}^{2} - 4.0$"
      ],
      "text/plain": [
       "4*a_{1x}**2 + 12*a_{2x}**2 + 4*a_{2y}**2 + 4*a_{2z}**2 + 4*a_{3x}**2 - 4.0"
      ]
     },
     "metadata": {},
     "output_type": "display_data"
    },
    {
     "data": {
      "text/latex": [
       "$\\displaystyle 4 a_{1x} a_{1y} + 8 a_{2x} a_{2y} + 4 a_{3x} a_{3y}$"
      ],
      "text/plain": [
       "4*a_{1x}*a_{1y} + 8*a_{2x}*a_{2y} + 4*a_{3x}*a_{3y}"
      ]
     },
     "metadata": {},
     "output_type": "display_data"
    },
    {
     "data": {
      "text/latex": [
       "$\\displaystyle 4 a_{1x} a_{1z} + 8 a_{2x} a_{2z} + 4 a_{3x} a_{3z}$"
      ],
      "text/plain": [
       "4*a_{1x}*a_{1z} + 8*a_{2x}*a_{2z} + 4*a_{3x}*a_{3z}"
      ]
     },
     "metadata": {},
     "output_type": "display_data"
    },
    {
     "data": {
      "text/latex": [
       "$\\displaystyle 8 a_{2x} a_{3x} + 4 a_{2y} a_{3y} + 4 a_{2z} a_{3z}$"
      ],
      "text/plain": [
       "8*a_{2x}*a_{3x} + 4*a_{2y}*a_{3y} + 4*a_{2z}*a_{3z}"
      ]
     },
     "metadata": {},
     "output_type": "display_data"
    },
    {
     "data": {
      "text/latex": [
       "$\\displaystyle 4 a_{2y} a_{3x}$"
      ],
      "text/plain": [
       "4*a_{2y}*a_{3x}"
      ]
     },
     "metadata": {},
     "output_type": "display_data"
    },
    {
     "data": {
      "text/latex": [
       "$\\displaystyle 4 a_{2z} a_{3x}$"
      ],
      "text/plain": [
       "4*a_{2z}*a_{3x}"
      ]
     },
     "metadata": {},
     "output_type": "display_data"
    },
    {
     "data": {
      "text/latex": [
       "$\\displaystyle 4 a_{1y} a_{2x}$"
      ],
      "text/plain": [
       "4*a_{1y}*a_{2x}"
      ]
     },
     "metadata": {},
     "output_type": "display_data"
    },
    {
     "data": {
      "text/latex": [
       "$\\displaystyle 4 a_{1x} a_{2x} + 8 a_{1y} a_{2y} + 4 a_{1z} a_{2z}$"
      ],
      "text/plain": [
       "4*a_{1x}*a_{2x} + 8*a_{1y}*a_{2y} + 4*a_{1z}*a_{2z}"
      ]
     },
     "metadata": {},
     "output_type": "display_data"
    },
    {
     "data": {
      "text/latex": [
       "$\\displaystyle 4 a_{1y} a_{2z}$"
      ],
      "text/plain": [
       "4*a_{1y}*a_{2z}"
      ]
     },
     "metadata": {},
     "output_type": "display_data"
    },
    {
     "data": {
      "text/latex": [
       "$\\displaystyle 4 a_{1x} a_{1y} + 8 a_{2x} a_{2y} + 4 a_{3x} a_{3y}$"
      ],
      "text/plain": [
       "4*a_{1x}*a_{1y} + 8*a_{2x}*a_{2y} + 4*a_{3x}*a_{3y}"
      ]
     },
     "metadata": {},
     "output_type": "display_data"
    },
    {
     "data": {
      "text/latex": [
       "$\\displaystyle 4 a_{1y}^{2} + 4 a_{2x}^{2} + 12 a_{2y}^{2} + 4 a_{2z}^{2} + 4 a_{3y}^{2} - 4.0$"
      ],
      "text/plain": [
       "4*a_{1y}**2 + 4*a_{2x}**2 + 12*a_{2y}**2 + 4*a_{2z}**2 + 4*a_{3y}**2 - 4.0"
      ]
     },
     "metadata": {},
     "output_type": "display_data"
    },
    {
     "data": {
      "text/latex": [
       "$\\displaystyle 4 a_{1y} a_{1z} + 8 a_{2y} a_{2z} + 4 a_{3y} a_{3z}$"
      ],
      "text/plain": [
       "4*a_{1y}*a_{1z} + 8*a_{2y}*a_{2z} + 4*a_{3y}*a_{3z}"
      ]
     },
     "metadata": {},
     "output_type": "display_data"
    },
    {
     "data": {
      "text/latex": [
       "$\\displaystyle 4 a_{2x} a_{3y}$"
      ],
      "text/plain": [
       "4*a_{2x}*a_{3y}"
      ]
     },
     "metadata": {},
     "output_type": "display_data"
    },
    {
     "data": {
      "text/latex": [
       "$\\displaystyle 4 a_{2x} a_{3x} + 8 a_{2y} a_{3y} + 4 a_{2z} a_{3z}$"
      ],
      "text/plain": [
       "4*a_{2x}*a_{3x} + 8*a_{2y}*a_{3y} + 4*a_{2z}*a_{3z}"
      ]
     },
     "metadata": {},
     "output_type": "display_data"
    },
    {
     "data": {
      "text/latex": [
       "$\\displaystyle 4 a_{2z} a_{3y}$"
      ],
      "text/plain": [
       "4*a_{2z}*a_{3y}"
      ]
     },
     "metadata": {},
     "output_type": "display_data"
    },
    {
     "data": {
      "text/latex": [
       "$\\displaystyle 4 a_{1z} a_{2x}$"
      ],
      "text/plain": [
       "4*a_{1z}*a_{2x}"
      ]
     },
     "metadata": {},
     "output_type": "display_data"
    },
    {
     "data": {
      "text/latex": [
       "$\\displaystyle 4 a_{1z} a_{2y}$"
      ],
      "text/plain": [
       "4*a_{1z}*a_{2y}"
      ]
     },
     "metadata": {},
     "output_type": "display_data"
    },
    {
     "data": {
      "text/latex": [
       "$\\displaystyle 4 a_{1x} a_{2x} + 4 a_{1y} a_{2y} + 8 a_{1z} a_{2z}$"
      ],
      "text/plain": [
       "4*a_{1x}*a_{2x} + 4*a_{1y}*a_{2y} + 8*a_{1z}*a_{2z}"
      ]
     },
     "metadata": {},
     "output_type": "display_data"
    },
    {
     "data": {
      "text/latex": [
       "$\\displaystyle 4 a_{1x} a_{1z} + 8 a_{2x} a_{2z} + 4 a_{3x} a_{3z}$"
      ],
      "text/plain": [
       "4*a_{1x}*a_{1z} + 8*a_{2x}*a_{2z} + 4*a_{3x}*a_{3z}"
      ]
     },
     "metadata": {},
     "output_type": "display_data"
    },
    {
     "data": {
      "text/latex": [
       "$\\displaystyle 4 a_{1y} a_{1z} + 8 a_{2y} a_{2z} + 4 a_{3y} a_{3z}$"
      ],
      "text/plain": [
       "4*a_{1y}*a_{1z} + 8*a_{2y}*a_{2z} + 4*a_{3y}*a_{3z}"
      ]
     },
     "metadata": {},
     "output_type": "display_data"
    },
    {
     "data": {
      "text/latex": [
       "$\\displaystyle 4 a_{1z}^{2} + 4 a_{2x}^{2} + 4 a_{2y}^{2} + 12 a_{2z}^{2} + 4 a_{3z}^{2} - 4.0$"
      ],
      "text/plain": [
       "4*a_{1z}**2 + 4*a_{2x}**2 + 4*a_{2y}**2 + 12*a_{2z}**2 + 4*a_{3z}**2 - 4.0"
      ]
     },
     "metadata": {},
     "output_type": "display_data"
    },
    {
     "data": {
      "text/latex": [
       "$\\displaystyle 4 a_{2x} a_{3z}$"
      ],
      "text/plain": [
       "4*a_{2x}*a_{3z}"
      ]
     },
     "metadata": {},
     "output_type": "display_data"
    },
    {
     "data": {
      "text/latex": [
       "$\\displaystyle 4 a_{2y} a_{3z}$"
      ],
      "text/plain": [
       "4*a_{2y}*a_{3z}"
      ]
     },
     "metadata": {},
     "output_type": "display_data"
    },
    {
     "data": {
      "text/latex": [
       "$\\displaystyle 4 a_{2x} a_{3x} + 4 a_{2y} a_{3y} + 8 a_{2z} a_{3z}$"
      ],
      "text/plain": [
       "4*a_{2x}*a_{3x} + 4*a_{2y}*a_{3y} + 8*a_{2z}*a_{3z}"
      ]
     },
     "metadata": {},
     "output_type": "display_data"
    },
    {
     "data": {
      "text/latex": [
       "$\\displaystyle 8 a_{1x} a_{3x} + 4 a_{1y} a_{3y} + 4 a_{1z} a_{3z}$"
      ],
      "text/plain": [
       "8*a_{1x}*a_{3x} + 4*a_{1y}*a_{3y} + 4*a_{1z}*a_{3z}"
      ]
     },
     "metadata": {},
     "output_type": "display_data"
    },
    {
     "data": {
      "text/latex": [
       "$\\displaystyle 4 a_{1x} a_{3y}$"
      ],
      "text/plain": [
       "4*a_{1x}*a_{3y}"
      ]
     },
     "metadata": {},
     "output_type": "display_data"
    },
    {
     "data": {
      "text/latex": [
       "$\\displaystyle 4 a_{1x} a_{3z}$"
      ],
      "text/plain": [
       "4*a_{1x}*a_{3z}"
      ]
     },
     "metadata": {},
     "output_type": "display_data"
    },
    {
     "data": {
      "text/latex": [
       "$\\displaystyle 8 a_{2x} a_{3x} + 4 a_{2y} a_{3y} + 4 a_{2z} a_{3z}$"
      ],
      "text/plain": [
       "8*a_{2x}*a_{3x} + 4*a_{2y}*a_{3y} + 4*a_{2z}*a_{3z}"
      ]
     },
     "metadata": {},
     "output_type": "display_data"
    },
    {
     "data": {
      "text/latex": [
       "$\\displaystyle 4 a_{2x} a_{3y}$"
      ],
      "text/plain": [
       "4*a_{2x}*a_{3y}"
      ]
     },
     "metadata": {},
     "output_type": "display_data"
    },
    {
     "data": {
      "text/latex": [
       "$\\displaystyle 4 a_{2x} a_{3z}$"
      ],
      "text/plain": [
       "4*a_{2x}*a_{3z}"
      ]
     },
     "metadata": {},
     "output_type": "display_data"
    },
    {
     "data": {
      "text/latex": [
       "$\\displaystyle 4 a_{1x}^{2} + 4 a_{2x}^{2} + 12 a_{3x}^{2} + 4 a_{3y}^{2} + 4 a_{3z}^{2} - 4.0$"
      ],
      "text/plain": [
       "4*a_{1x}**2 + 4*a_{2x}**2 + 12*a_{3x}**2 + 4*a_{3y}**2 + 4*a_{3z}**2 - 4.0"
      ]
     },
     "metadata": {},
     "output_type": "display_data"
    },
    {
     "data": {
      "text/latex": [
       "$\\displaystyle 4 a_{1x} a_{1y} + 4 a_{2x} a_{2y} + 8 a_{3x} a_{3y}$"
      ],
      "text/plain": [
       "4*a_{1x}*a_{1y} + 4*a_{2x}*a_{2y} + 8*a_{3x}*a_{3y}"
      ]
     },
     "metadata": {},
     "output_type": "display_data"
    },
    {
     "data": {
      "text/latex": [
       "$\\displaystyle 4 a_{1x} a_{1z} + 4 a_{2x} a_{2z} + 8 a_{3x} a_{3z}$"
      ],
      "text/plain": [
       "4*a_{1x}*a_{1z} + 4*a_{2x}*a_{2z} + 8*a_{3x}*a_{3z}"
      ]
     },
     "metadata": {},
     "output_type": "display_data"
    },
    {
     "data": {
      "text/latex": [
       "$\\displaystyle 4 a_{1y} a_{3x}$"
      ],
      "text/plain": [
       "4*a_{1y}*a_{3x}"
      ]
     },
     "metadata": {},
     "output_type": "display_data"
    },
    {
     "data": {
      "text/latex": [
       "$\\displaystyle 4 a_{1x} a_{3x} + 8 a_{1y} a_{3y} + 4 a_{1z} a_{3z}$"
      ],
      "text/plain": [
       "4*a_{1x}*a_{3x} + 8*a_{1y}*a_{3y} + 4*a_{1z}*a_{3z}"
      ]
     },
     "metadata": {},
     "output_type": "display_data"
    },
    {
     "data": {
      "text/latex": [
       "$\\displaystyle 4 a_{1y} a_{3z}$"
      ],
      "text/plain": [
       "4*a_{1y}*a_{3z}"
      ]
     },
     "metadata": {},
     "output_type": "display_data"
    },
    {
     "data": {
      "text/latex": [
       "$\\displaystyle 4 a_{2y} a_{3x}$"
      ],
      "text/plain": [
       "4*a_{2y}*a_{3x}"
      ]
     },
     "metadata": {},
     "output_type": "display_data"
    },
    {
     "data": {
      "text/latex": [
       "$\\displaystyle 4 a_{2x} a_{3x} + 8 a_{2y} a_{3y} + 4 a_{2z} a_{3z}$"
      ],
      "text/plain": [
       "4*a_{2x}*a_{3x} + 8*a_{2y}*a_{3y} + 4*a_{2z}*a_{3z}"
      ]
     },
     "metadata": {},
     "output_type": "display_data"
    },
    {
     "data": {
      "text/latex": [
       "$\\displaystyle 4 a_{2y} a_{3z}$"
      ],
      "text/plain": [
       "4*a_{2y}*a_{3z}"
      ]
     },
     "metadata": {},
     "output_type": "display_data"
    },
    {
     "data": {
      "text/latex": [
       "$\\displaystyle 4 a_{1x} a_{1y} + 4 a_{2x} a_{2y} + 8 a_{3x} a_{3y}$"
      ],
      "text/plain": [
       "4*a_{1x}*a_{1y} + 4*a_{2x}*a_{2y} + 8*a_{3x}*a_{3y}"
      ]
     },
     "metadata": {},
     "output_type": "display_data"
    },
    {
     "data": {
      "text/latex": [
       "$\\displaystyle 4 a_{1y}^{2} + 4 a_{2y}^{2} + 4 a_{3x}^{2} + 12 a_{3y}^{2} + 4 a_{3z}^{2} - 4.0$"
      ],
      "text/plain": [
       "4*a_{1y}**2 + 4*a_{2y}**2 + 4*a_{3x}**2 + 12*a_{3y}**2 + 4*a_{3z}**2 - 4.0"
      ]
     },
     "metadata": {},
     "output_type": "display_data"
    },
    {
     "data": {
      "text/latex": [
       "$\\displaystyle 4 a_{1y} a_{1z} + 4 a_{2y} a_{2z} + 8 a_{3y} a_{3z}$"
      ],
      "text/plain": [
       "4*a_{1y}*a_{1z} + 4*a_{2y}*a_{2z} + 8*a_{3y}*a_{3z}"
      ]
     },
     "metadata": {},
     "output_type": "display_data"
    },
    {
     "data": {
      "text/latex": [
       "$\\displaystyle 4 a_{1z} a_{3x}$"
      ],
      "text/plain": [
       "4*a_{1z}*a_{3x}"
      ]
     },
     "metadata": {},
     "output_type": "display_data"
    },
    {
     "data": {
      "text/latex": [
       "$\\displaystyle 4 a_{1z} a_{3y}$"
      ],
      "text/plain": [
       "4*a_{1z}*a_{3y}"
      ]
     },
     "metadata": {},
     "output_type": "display_data"
    },
    {
     "data": {
      "text/latex": [
       "$\\displaystyle 4 a_{1x} a_{3x} + 4 a_{1y} a_{3y} + 8 a_{1z} a_{3z}$"
      ],
      "text/plain": [
       "4*a_{1x}*a_{3x} + 4*a_{1y}*a_{3y} + 8*a_{1z}*a_{3z}"
      ]
     },
     "metadata": {},
     "output_type": "display_data"
    },
    {
     "data": {
      "text/latex": [
       "$\\displaystyle 4 a_{2z} a_{3x}$"
      ],
      "text/plain": [
       "4*a_{2z}*a_{3x}"
      ]
     },
     "metadata": {},
     "output_type": "display_data"
    },
    {
     "data": {
      "text/latex": [
       "$\\displaystyle 4 a_{2z} a_{3y}$"
      ],
      "text/plain": [
       "4*a_{2z}*a_{3y}"
      ]
     },
     "metadata": {},
     "output_type": "display_data"
    },
    {
     "data": {
      "text/latex": [
       "$\\displaystyle 4 a_{2x} a_{3x} + 4 a_{2y} a_{3y} + 8 a_{2z} a_{3z}$"
      ],
      "text/plain": [
       "4*a_{2x}*a_{3x} + 4*a_{2y}*a_{3y} + 8*a_{2z}*a_{3z}"
      ]
     },
     "metadata": {},
     "output_type": "display_data"
    },
    {
     "data": {
      "text/latex": [
       "$\\displaystyle 4 a_{1x} a_{1z} + 4 a_{2x} a_{2z} + 8 a_{3x} a_{3z}$"
      ],
      "text/plain": [
       "4*a_{1x}*a_{1z} + 4*a_{2x}*a_{2z} + 8*a_{3x}*a_{3z}"
      ]
     },
     "metadata": {},
     "output_type": "display_data"
    },
    {
     "data": {
      "text/latex": [
       "$\\displaystyle 4 a_{1y} a_{1z} + 4 a_{2y} a_{2z} + 8 a_{3y} a_{3z}$"
      ],
      "text/plain": [
       "4*a_{1y}*a_{1z} + 4*a_{2y}*a_{2z} + 8*a_{3y}*a_{3z}"
      ]
     },
     "metadata": {},
     "output_type": "display_data"
    },
    {
     "data": {
      "text/latex": [
       "$\\displaystyle 4 a_{1z}^{2} + 4 a_{2z}^{2} + 4 a_{3x}^{2} + 4 a_{3y}^{2} + 12 a_{3z}^{2} - 4.0$"
      ],
      "text/plain": [
       "4*a_{1z}**2 + 4*a_{2z}**2 + 4*a_{3x}**2 + 4*a_{3y}**2 + 12*a_{3z}**2 - 4.0"
      ]
     },
     "metadata": {},
     "output_type": "display_data"
    }
   ],
   "source": [
    "for i in range(9):\n",
    "    for j in range(9):\n",
    "        display(standard_version.diff(A[i//3, i%3]).diff(A[j//3, j%3]))"
   ]
  },
  {
   "cell_type": "code",
   "execution_count": 243,
   "metadata": {},
   "outputs": [
    {
     "data": {
      "text/latex": [
       "$\\displaystyle \\left[\\begin{matrix}x_{1} & y_{1} & z_{1}\\\\x_{2} & y_{2} & z_{2}\\\\x_{3} & y_{3} & z_{3}\\\\x_{4} & y_{4} & z_{4}\\end{matrix}\\right]$"
      ],
      "text/plain": [
       "Matrix([\n",
       "[x1, y1, z1],\n",
       "[x2, y2, z2],\n",
       "[x3, y3, z3],\n",
       "[x4, y4, z4]])"
      ]
     },
     "metadata": {},
     "output_type": "display_data"
    }
   ],
   "source": [
    "x = np.array(sympy.symbols([f\"{d}{i}\" for i in range(1, 5) for d in \"xyz\"])).reshape(-1, 3)\n",
    "display(sympy.Matrix(x))"
   ]
  },
  {
   "cell_type": "code",
   "execution_count": 244,
   "metadata": {},
   "outputs": [],
   "source": [
    "p = np.array(sympy.symbols(\"p_x p_y p_z\"))\n",
    "dof = np.hstack((p, A.flatten(order=\"C\")))"
   ]
  },
  {
   "cell_type": "code",
   "execution_count": 245,
   "metadata": {},
   "outputs": [
    {
     "data": {
      "text/latex": [
       "$\\displaystyle \\left[\\begin{array}{cccccccccccc}1 & 0 & 0 & x_{1} & y_{1} & z_{1} & 0 & 0 & 0 & 0 & 0 & 0\\\\1 & 0 & 0 & x_{2} & y_{2} & z_{2} & 0 & 0 & 0 & 0 & 0 & 0\\\\1 & 0 & 0 & x_{3} & y_{3} & z_{3} & 0 & 0 & 0 & 0 & 0 & 0\\\\1 & 0 & 0 & x_{4} & y_{4} & z_{4} & 0 & 0 & 0 & 0 & 0 & 0\\\\0 & 1 & 0 & 0 & 0 & 0 & x_{1} & y_{1} & z_{1} & 0 & 0 & 0\\\\0 & 1 & 0 & 0 & 0 & 0 & x_{2} & y_{2} & z_{2} & 0 & 0 & 0\\\\0 & 1 & 0 & 0 & 0 & 0 & x_{3} & y_{3} & z_{3} & 0 & 0 & 0\\\\0 & 1 & 0 & 0 & 0 & 0 & x_{4} & y_{4} & z_{4} & 0 & 0 & 0\\\\0 & 0 & 1 & 0 & 0 & 0 & 0 & 0 & 0 & x_{1} & y_{1} & z_{1}\\\\0 & 0 & 1 & 0 & 0 & 0 & 0 & 0 & 0 & x_{2} & y_{2} & z_{2}\\\\0 & 0 & 1 & 0 & 0 & 0 & 0 & 0 & 0 & x_{3} & y_{3} & z_{3}\\\\0 & 0 & 1 & 0 & 0 & 0 & 0 & 0 & 0 & x_{4} & y_{4} & z_{4}\\end{array}\\right]$"
      ],
      "text/plain": [
       "Matrix([\n",
       "[1, 0, 0, x1, y1, z1,  0,  0,  0,  0,  0,  0],\n",
       "[1, 0, 0, x2, y2, z2,  0,  0,  0,  0,  0,  0],\n",
       "[1, 0, 0, x3, y3, z3,  0,  0,  0,  0,  0,  0],\n",
       "[1, 0, 0, x4, y4, z4,  0,  0,  0,  0,  0,  0],\n",
       "[0, 1, 0,  0,  0,  0, x1, y1, z1,  0,  0,  0],\n",
       "[0, 1, 0,  0,  0,  0, x2, y2, z2,  0,  0,  0],\n",
       "[0, 1, 0,  0,  0,  0, x3, y3, z3,  0,  0,  0],\n",
       "[0, 1, 0,  0,  0,  0, x4, y4, z4,  0,  0,  0],\n",
       "[0, 0, 1,  0,  0,  0,  0,  0,  0, x1, y1, z1],\n",
       "[0, 0, 1,  0,  0,  0,  0,  0,  0, x2, y2, z2],\n",
       "[0, 0, 1,  0,  0,  0,  0,  0,  0, x3, y3, z3],\n",
       "[0, 0, 1,  0,  0,  0,  0,  0,  0, x4, y4, z4]])"
      ]
     },
     "metadata": {},
     "output_type": "display_data"
    },
    {
     "data": {
      "text/latex": [
       "$\\displaystyle \\left[\\begin{matrix}a_{1x} x_{1} + a_{1y} y_{1} + a_{1z} z_{1} + p_{x}\\\\a_{1x} x_{2} + a_{1y} y_{2} + a_{1z} z_{2} + p_{x}\\\\a_{1x} x_{3} + a_{1y} y_{3} + a_{1z} z_{3} + p_{x}\\\\a_{1x} x_{4} + a_{1y} y_{4} + a_{1z} z_{4} + p_{x}\\\\a_{2x} x_{1} + a_{2y} y_{1} + a_{2z} z_{1} + p_{y}\\\\a_{2x} x_{2} + a_{2y} y_{2} + a_{2z} z_{2} + p_{y}\\\\a_{2x} x_{3} + a_{2y} y_{3} + a_{2z} z_{3} + p_{y}\\\\a_{2x} x_{4} + a_{2y} y_{4} + a_{2z} z_{4} + p_{y}\\\\a_{3x} x_{1} + a_{3y} y_{1} + a_{3z} z_{1} + p_{z}\\\\a_{3x} x_{2} + a_{3y} y_{2} + a_{3z} z_{2} + p_{z}\\\\a_{3x} x_{3} + a_{3y} y_{3} + a_{3z} z_{3} + p_{z}\\\\a_{3x} x_{4} + a_{3y} y_{4} + a_{3z} z_{4} + p_{z}\\end{matrix}\\right]$"
      ],
      "text/plain": [
       "Matrix([\n",
       "[a_{1x}*x1 + a_{1y}*y1 + a_{1z}*z1 + p_x],\n",
       "[a_{1x}*x2 + a_{1y}*y2 + a_{1z}*z2 + p_x],\n",
       "[a_{1x}*x3 + a_{1y}*y3 + a_{1z}*z3 + p_x],\n",
       "[a_{1x}*x4 + a_{1y}*y4 + a_{1z}*z4 + p_x],\n",
       "[a_{2x}*x1 + a_{2y}*y1 + a_{2z}*z1 + p_y],\n",
       "[a_{2x}*x2 + a_{2y}*y2 + a_{2z}*z2 + p_y],\n",
       "[a_{2x}*x3 + a_{2y}*y3 + a_{2z}*z3 + p_y],\n",
       "[a_{2x}*x4 + a_{2y}*y4 + a_{2z}*z4 + p_y],\n",
       "[a_{3x}*x1 + a_{3y}*y1 + a_{3z}*z1 + p_z],\n",
       "[a_{3x}*x2 + a_{3y}*y2 + a_{3z}*z2 + p_z],\n",
       "[a_{3x}*x3 + a_{3y}*y3 + a_{3z}*z3 + p_z],\n",
       "[a_{3x}*x4 + a_{3y}*y4 + a_{3z}*z4 + p_z]])"
      ]
     },
     "metadata": {},
     "output_type": "display_data"
    },
    {
     "data": {
      "text/latex": [
       "$\\displaystyle \\left[\\begin{matrix}a_{1x} x_{1} + a_{1y} y_{1} + a_{1z} z_{1} + p_{x}\\\\a_{1x} x_{2} + a_{1y} y_{2} + a_{1z} z_{2} + p_{x}\\\\a_{1x} x_{3} + a_{1y} y_{3} + a_{1z} z_{3} + p_{x}\\\\a_{1x} x_{4} + a_{1y} y_{4} + a_{1z} z_{4} + p_{x}\\\\a_{2x} x_{1} + a_{2y} y_{1} + a_{2z} z_{1} + p_{y}\\\\a_{2x} x_{2} + a_{2y} y_{2} + a_{2z} z_{2} + p_{y}\\\\a_{2x} x_{3} + a_{2y} y_{3} + a_{2z} z_{3} + p_{y}\\\\a_{2x} x_{4} + a_{2y} y_{4} + a_{2z} z_{4} + p_{y}\\\\a_{3x} x_{1} + a_{3y} y_{1} + a_{3z} z_{1} + p_{z}\\\\a_{3x} x_{2} + a_{3y} y_{2} + a_{3z} z_{2} + p_{z}\\\\a_{3x} x_{3} + a_{3y} y_{3} + a_{3z} z_{3} + p_{z}\\\\a_{3x} x_{4} + a_{3y} y_{4} + a_{3z} z_{4} + p_{z}\\end{matrix}\\right]$"
      ],
      "text/plain": [
       "Matrix([\n",
       "[a_{1x}*x1 + a_{1y}*y1 + a_{1z}*z1 + p_x],\n",
       "[a_{1x}*x2 + a_{1y}*y2 + a_{1z}*z2 + p_x],\n",
       "[a_{1x}*x3 + a_{1y}*y3 + a_{1z}*z3 + p_x],\n",
       "[a_{1x}*x4 + a_{1y}*y4 + a_{1z}*z4 + p_x],\n",
       "[a_{2x}*x1 + a_{2y}*y1 + a_{2z}*z1 + p_y],\n",
       "[a_{2x}*x2 + a_{2y}*y2 + a_{2z}*z2 + p_y],\n",
       "[a_{2x}*x3 + a_{2y}*y3 + a_{2z}*z3 + p_y],\n",
       "[a_{2x}*x4 + a_{2y}*y4 + a_{2z}*z4 + p_y],\n",
       "[a_{3x}*x1 + a_{3y}*y1 + a_{3z}*z1 + p_z],\n",
       "[a_{3x}*x2 + a_{3y}*y2 + a_{3z}*z2 + p_z],\n",
       "[a_{3x}*x3 + a_{3y}*y3 + a_{3z}*z3 + p_z],\n",
       "[a_{3x}*x4 + a_{3y}*y4 + a_{3z}*z4 + p_z]])"
      ]
     },
     "metadata": {},
     "output_type": "display_data"
    },
    {
     "data": {
      "text/latex": [
       "$\\displaystyle \\left[\\begin{matrix}0\\\\0\\\\0\\\\0\\\\0\\\\0\\\\0\\\\0\\\\0\\\\0\\\\0\\\\0\\end{matrix}\\right]$"
      ],
      "text/plain": [
       "Matrix([\n",
       "[0],\n",
       "[0],\n",
       "[0],\n",
       "[0],\n",
       "[0],\n",
       "[0],\n",
       "[0],\n",
       "[0],\n",
       "[0],\n",
       "[0],\n",
       "[0],\n",
       "[0]])"
      ]
     },
     "metadata": {},
     "output_type": "display_data"
    },
    {
     "data": {
      "text/latex": [
       "$\\displaystyle \\left[\\begin{matrix}\\left[\\begin{matrix}1\\\\1\\\\1\\\\1\\\\0\\\\0\\\\0\\\\0\\\\0\\\\0\\\\0\\\\0\\end{matrix}\\right] & \\left[\\begin{matrix}0\\\\0\\\\0\\\\0\\\\1\\\\1\\\\1\\\\1\\\\0\\\\0\\\\0\\\\0\\end{matrix}\\right] & \\left[\\begin{matrix}0\\\\0\\\\0\\\\0\\\\0\\\\0\\\\0\\\\0\\\\1\\\\1\\\\1\\\\1\\end{matrix}\\right] & \\left[\\begin{matrix}x_{1}\\\\x_{2}\\\\x_{3}\\\\x_{4}\\\\0\\\\0\\\\0\\\\0\\\\0\\\\0\\\\0\\\\0\\end{matrix}\\right] & \\left[\\begin{matrix}y_{1}\\\\y_{2}\\\\y_{3}\\\\y_{4}\\\\0\\\\0\\\\0\\\\0\\\\0\\\\0\\\\0\\\\0\\end{matrix}\\right] & \\left[\\begin{matrix}z_{1}\\\\z_{2}\\\\z_{3}\\\\z_{4}\\\\0\\\\0\\\\0\\\\0\\\\0\\\\0\\\\0\\\\0\\end{matrix}\\right] & \\left[\\begin{matrix}0\\\\0\\\\0\\\\0\\\\x_{1}\\\\x_{2}\\\\x_{3}\\\\x_{4}\\\\0\\\\0\\\\0\\\\0\\end{matrix}\\right] & \\left[\\begin{matrix}0\\\\0\\\\0\\\\0\\\\y_{1}\\\\y_{2}\\\\y_{3}\\\\y_{4}\\\\0\\\\0\\\\0\\\\0\\end{matrix}\\right] & \\left[\\begin{matrix}0\\\\0\\\\0\\\\0\\\\z_{1}\\\\z_{2}\\\\z_{3}\\\\z_{4}\\\\0\\\\0\\\\0\\\\0\\end{matrix}\\right] & \\left[\\begin{matrix}0\\\\0\\\\0\\\\0\\\\0\\\\0\\\\0\\\\0\\\\x_{1}\\\\x_{2}\\\\x_{3}\\\\x_{4}\\end{matrix}\\right] & \\left[\\begin{matrix}0\\\\0\\\\0\\\\0\\\\0\\\\0\\\\0\\\\0\\\\y_{1}\\\\y_{2}\\\\y_{3}\\\\y_{4}\\end{matrix}\\right] & \\left[\\begin{matrix}0\\\\0\\\\0\\\\0\\\\0\\\\0\\\\0\\\\0\\\\z_{1}\\\\z_{2}\\\\z_{3}\\\\z_{4}\\end{matrix}\\right]\\end{matrix}\\right]$"
      ],
      "text/plain": [
       "[[[1], [1], [1], [1], [0], [0], [0], [0], [0], [0], [0], [0]], [[0], [0], [0], [0], [1], [1], [1], [1], [0], [0], [0], [0]], [[0], [0], [0], [0], [0], [0], [0], [0], [1], [1], [1], [1]], [[x1], [x2], [x3], [x4], [0], [0], [0], [0], [0], [0], [0], [0]], [[y1], [y2], [y3], [y4], [0], [0], [0], [0], [0], [0], [0], [0]], [[z1], [z2], [z3], [z4], [0], [0], [0], [0], [0], [0], [0], [0]], [[0], [0], [0], [0], [x1], [x2], [x3], [x4], [0], [0], [0], [0]], [[0], [0], [0], [0], [y1], [y2], [y3], [y4], [0], [0], [0], [0]], [[0], [0], [0], [0], [z1], [z2], [z3], [z4], [0], [0], [0], [0]], [[0], [0], [0], [0], [0], [0], [0], [0], [x1], [x2], [x3], [x4]], [[0], [0], [0], [0], [0], [0], [0], [0], [y1], [y2], [y3], [y4]], [[0], [0], [0], [0], [0], [0], [0], [0], [z1], [z2], [z3], [z4]]]"
      ]
     },
     "metadata": {},
     "output_type": "display_data"
    }
   ],
   "source": [
    "J = np.zeros((x.size, 12), dtype=object)\n",
    "\n",
    "for i in range(x.shape[0]):\n",
    "    for j in range(x.shape[1]):\n",
    "        J[x.shape[0]*j + i, j] = 1\n",
    "\n",
    "# J[:, 3:] = np.kron(np.eye(3, dtype=int), x)\n",
    "for i in range(x.shape[0]):\n",
    "    for j in range(x.shape[1]):\n",
    "        for k in range(A.shape[0]):\n",
    "            J[i + k * x.shape[0], j + k * x.shape[1] + p.size] = x[i, j]\n",
    "\n",
    "display(sympy.Matrix(J))\n",
    "\n",
    "linear_version = J @ dof\n",
    "affine_version = (x @ A.T + p).flatten(order=\"F\")\n",
    "\n",
    "display(sympy.Matrix(linear_version))\n",
    "display(sympy.Matrix(affine_version))\n",
    "display(sympy.Matrix(linear_version - affine_version))\n",
    "\n",
    "display(sympy.Matrix(linear_version).diff(dof))"
   ]
  },
  {
   "cell_type": "code",
   "execution_count": 246,
   "metadata": {},
   "outputs": [
    {
     "data": {
      "text/latex": [
       "$\\displaystyle \\left. \\frac{\\partial}{\\partial \\xi_{1}} f{\\left(\\xi_{1},a_{1x} x_{2} + a_{1y} y_{2} + a_{1z} z_{2} + p_{x},a_{1x} x_{3} + a_{1y} y_{3} + a_{1z} z_{3} + p_{x},a_{1x} x_{4} + a_{1y} y_{4} + a_{1z} z_{4} + p_{x},a_{2x} x_{1} + a_{2y} y_{1} + a_{2z} z_{1} + p_{y},a_{2x} x_{2} + a_{2y} y_{2} + a_{2z} z_{2} + p_{y},a_{2x} x_{3} + a_{2y} y_{3} + a_{2z} z_{3} + p_{y},a_{2x} x_{4} + a_{2y} y_{4} + a_{2z} z_{4} + p_{y},a_{3x} x_{1} + a_{3y} y_{1} + a_{3z} z_{1} + p_{z},a_{3x} x_{2} + a_{3y} y_{2} + a_{3z} z_{2} + p_{z},a_{3x} x_{3} + a_{3y} y_{3} + a_{3z} z_{3} + p_{z},a_{3x} x_{4} + a_{3y} y_{4} + a_{3z} z_{4} + p_{z} \\right)} \\right|_{\\substack{ \\xi_{1}=a_{1x} x_{1} + a_{1y} y_{1} + a_{1z} z_{1} + p_{x} }} + \\left. \\frac{\\partial}{\\partial \\xi_{2}} f{\\left(a_{1x} x_{1} + a_{1y} y_{1} + a_{1z} z_{1} + p_{x},\\xi_{2},a_{1x} x_{3} + a_{1y} y_{3} + a_{1z} z_{3} + p_{x},a_{1x} x_{4} + a_{1y} y_{4} + a_{1z} z_{4} + p_{x},a_{2x} x_{1} + a_{2y} y_{1} + a_{2z} z_{1} + p_{y},a_{2x} x_{2} + a_{2y} y_{2} + a_{2z} z_{2} + p_{y},a_{2x} x_{3} + a_{2y} y_{3} + a_{2z} z_{3} + p_{y},a_{2x} x_{4} + a_{2y} y_{4} + a_{2z} z_{4} + p_{y},a_{3x} x_{1} + a_{3y} y_{1} + a_{3z} z_{1} + p_{z},a_{3x} x_{2} + a_{3y} y_{2} + a_{3z} z_{2} + p_{z},a_{3x} x_{3} + a_{3y} y_{3} + a_{3z} z_{3} + p_{z},a_{3x} x_{4} + a_{3y} y_{4} + a_{3z} z_{4} + p_{z} \\right)} \\right|_{\\substack{ \\xi_{2}=a_{1x} x_{2} + a_{1y} y_{2} + a_{1z} z_{2} + p_{x} }} + \\left. \\frac{\\partial}{\\partial \\xi_{3}} f{\\left(a_{1x} x_{1} + a_{1y} y_{1} + a_{1z} z_{1} + p_{x},a_{1x} x_{2} + a_{1y} y_{2} + a_{1z} z_{2} + p_{x},\\xi_{3},a_{1x} x_{4} + a_{1y} y_{4} + a_{1z} z_{4} + p_{x},a_{2x} x_{1} + a_{2y} y_{1} + a_{2z} z_{1} + p_{y},a_{2x} x_{2} + a_{2y} y_{2} + a_{2z} z_{2} + p_{y},a_{2x} x_{3} + a_{2y} y_{3} + a_{2z} z_{3} + p_{y},a_{2x} x_{4} + a_{2y} y_{4} + a_{2z} z_{4} + p_{y},a_{3x} x_{1} + a_{3y} y_{1} + a_{3z} z_{1} + p_{z},a_{3x} x_{2} + a_{3y} y_{2} + a_{3z} z_{2} + p_{z},a_{3x} x_{3} + a_{3y} y_{3} + a_{3z} z_{3} + p_{z},a_{3x} x_{4} + a_{3y} y_{4} + a_{3z} z_{4} + p_{z} \\right)} \\right|_{\\substack{ \\xi_{3}=a_{1x} x_{3} + a_{1y} y_{3} + a_{1z} z_{3} + p_{x} }} + \\left. \\frac{\\partial}{\\partial \\xi_{4}} f{\\left(a_{1x} x_{1} + a_{1y} y_{1} + a_{1z} z_{1} + p_{x},a_{1x} x_{2} + a_{1y} y_{2} + a_{1z} z_{2} + p_{x},a_{1x} x_{3} + a_{1y} y_{3} + a_{1z} z_{3} + p_{x},\\xi_{4},a_{2x} x_{1} + a_{2y} y_{1} + a_{2z} z_{1} + p_{y},a_{2x} x_{2} + a_{2y} y_{2} + a_{2z} z_{2} + p_{y},a_{2x} x_{3} + a_{2y} y_{3} + a_{2z} z_{3} + p_{y},a_{2x} x_{4} + a_{2y} y_{4} + a_{2z} z_{4} + p_{y},a_{3x} x_{1} + a_{3y} y_{1} + a_{3z} z_{1} + p_{z},a_{3x} x_{2} + a_{3y} y_{2} + a_{3z} z_{2} + p_{z},a_{3x} x_{3} + a_{3y} y_{3} + a_{3z} z_{3} + p_{z},a_{3x} x_{4} + a_{3y} y_{4} + a_{3z} z_{4} + p_{z} \\right)} \\right|_{\\substack{ \\xi_{4}=a_{1x} x_{4} + a_{1y} y_{4} + a_{1z} z_{4} + p_{x} }}$"
      ],
      "text/plain": [
       "Subs(Derivative(f(_xi_1, a_{1x}*x2 + a_{1y}*y2 + a_{1z}*z2 + p_x, a_{1x}*x3 + a_{1y}*y3 + a_{1z}*z3 + p_x, a_{1x}*x4 + a_{1y}*y4 + a_{1z}*z4 + p_x, a_{2x}*x1 + a_{2y}*y1 + a_{2z}*z1 + p_y, a_{2x}*x2 + a_{2y}*y2 + a_{2z}*z2 + p_y, a_{2x}*x3 + a_{2y}*y3 + a_{2z}*z3 + p_y, a_{2x}*x4 + a_{2y}*y4 + a_{2z}*z4 + p_y, a_{3x}*x1 + a_{3y}*y1 + a_{3z}*z1 + p_z, a_{3x}*x2 + a_{3y}*y2 + a_{3z}*z2 + p_z, a_{3x}*x3 + a_{3y}*y3 + a_{3z}*z3 + p_z, a_{3x}*x4 + a_{3y}*y4 + a_{3z}*z4 + p_z), _xi_1), _xi_1, a_{1x}*x1 + a_{1y}*y1 + a_{1z}*z1 + p_x) + Subs(Derivative(f(a_{1x}*x1 + a_{1y}*y1 + a_{1z}*z1 + p_x, _xi_2, a_{1x}*x3 + a_{1y}*y3 + a_{1z}*z3 + p_x, a_{1x}*x4 + a_{1y}*y4 + a_{1z}*z4 + p_x, a_{2x}*x1 + a_{2y}*y1 + a_{2z}*z1 + p_y, a_{2x}*x2 + a_{2y}*y2 + a_{2z}*z2 + p_y, a_{2x}*x3 + a_{2y}*y3 + a_{2z}*z3 + p_y, a_{2x}*x4 + a_{2y}*y4 + a_{2z}*z4 + p_y, a_{3x}*x1 + a_{3y}*y1 + a_{3z}*z1 + p_z, a_{3x}*x2 + a_{3y}*y2 + a_{3z}*z2 + p_z, a_{3x}*x3 + a_{3y}*y3 + a_{3z}*z3 + p_z, a_{3x}*x4 + a_{3y}*y4 + a_{3z}*z4 + p_z), _xi_2), _xi_2, a_{1x}*x2 + a_{1y}*y2 + a_{1z}*z2 + p_x) + Subs(Derivative(f(a_{1x}*x1 + a_{1y}*y1 + a_{1z}*z1 + p_x, a_{1x}*x2 + a_{1y}*y2 + a_{1z}*z2 + p_x, _xi_3, a_{1x}*x4 + a_{1y}*y4 + a_{1z}*z4 + p_x, a_{2x}*x1 + a_{2y}*y1 + a_{2z}*z1 + p_y, a_{2x}*x2 + a_{2y}*y2 + a_{2z}*z2 + p_y, a_{2x}*x3 + a_{2y}*y3 + a_{2z}*z3 + p_y, a_{2x}*x4 + a_{2y}*y4 + a_{2z}*z4 + p_y, a_{3x}*x1 + a_{3y}*y1 + a_{3z}*z1 + p_z, a_{3x}*x2 + a_{3y}*y2 + a_{3z}*z2 + p_z, a_{3x}*x3 + a_{3y}*y3 + a_{3z}*z3 + p_z, a_{3x}*x4 + a_{3y}*y4 + a_{3z}*z4 + p_z), _xi_3), _xi_3, a_{1x}*x3 + a_{1y}*y3 + a_{1z}*z3 + p_x) + Subs(Derivative(f(a_{1x}*x1 + a_{1y}*y1 + a_{1z}*z1 + p_x, a_{1x}*x2 + a_{1y}*y2 + a_{1z}*z2 + p_x, a_{1x}*x3 + a_{1y}*y3 + a_{1z}*z3 + p_x, _xi_4, a_{2x}*x1 + a_{2y}*y1 + a_{2z}*z1 + p_y, a_{2x}*x2 + a_{2y}*y2 + a_{2z}*z2 + p_y, a_{2x}*x3 + a_{2y}*y3 + a_{2z}*z3 + p_y, a_{2x}*x4 + a_{2y}*y4 + a_{2z}*z4 + p_y, a_{3x}*x1 + a_{3y}*y1 + a_{3z}*z1 + p_z, a_{3x}*x2 + a_{3y}*y2 + a_{3z}*z2 + p_z, a_{3x}*x3 + a_{3y}*y3 + a_{3z}*z3 + p_z, a_{3x}*x4 + a_{3y}*y4 + a_{3z}*z4 + p_z), _xi_4), _xi_4, a_{1x}*x4 + a_{1y}*y4 + a_{1z}*z4 + p_x)"
      ]
     },
     "execution_count": 246,
     "metadata": {},
     "output_type": "execute_result"
    }
   ],
   "source": [
    "sympy.Function(\"f\")(*(J @ dof)).diff(dof[0])"
   ]
  },
  {
   "cell_type": "code",
   "execution_count": 247,
   "metadata": {},
   "outputs": [
    {
     "data": {
      "text/latex": [
       "$\\displaystyle \\left[\\begin{array}{cccccccccccc}\\rho & 0 & 0 & \\frac{\\rho \\left(x_{1} + x_{2} + x_{3} + x_{4}\\right)}{4} & \\frac{\\rho \\left(y_{1} + y_{2} + y_{3} + y_{4}\\right)}{4} & \\frac{\\rho \\left(z_{1} + z_{2} + z_{3} + z_{4}\\right)}{4} & 0 & 0 & 0 & 0 & 0 & 0\\\\0 & \\rho & 0 & 0 & 0 & 0 & \\frac{\\rho \\left(x_{1} + x_{2} + x_{3} + x_{4}\\right)}{4} & \\frac{\\rho \\left(y_{1} + y_{2} + y_{3} + y_{4}\\right)}{4} & \\frac{\\rho \\left(z_{1} + z_{2} + z_{3} + z_{4}\\right)}{4} & 0 & 0 & 0\\\\0 & 0 & \\rho & 0 & 0 & 0 & 0 & 0 & 0 & \\frac{\\rho \\left(x_{1} + x_{2} + x_{3} + x_{4}\\right)}{4} & \\frac{\\rho \\left(y_{1} + y_{2} + y_{3} + y_{4}\\right)}{4} & \\frac{\\rho \\left(z_{1} + z_{2} + z_{3} + z_{4}\\right)}{4}\\\\\\frac{\\rho \\left(x_{1} + x_{2} + x_{3} + x_{4}\\right)}{4} & 0 & 0 & \\frac{\\rho \\left(x_{1}^{2} + x_{2}^{2} + x_{3}^{2} + x_{4}^{2}\\right)}{4} & \\frac{\\rho \\left(x_{1} y_{1} + x_{2} y_{2} + x_{3} y_{3} + x_{4} y_{4}\\right)}{4} & \\frac{\\rho \\left(x_{1} z_{1} + x_{2} z_{2} + x_{3} z_{3} + x_{4} z_{4}\\right)}{4} & 0 & 0 & 0 & 0 & 0 & 0\\\\\\frac{\\rho \\left(y_{1} + y_{2} + y_{3} + y_{4}\\right)}{4} & 0 & 0 & \\frac{\\rho \\left(x_{1} y_{1} + x_{2} y_{2} + x_{3} y_{3} + x_{4} y_{4}\\right)}{4} & \\frac{\\rho \\left(y_{1}^{2} + y_{2}^{2} + y_{3}^{2} + y_{4}^{2}\\right)}{4} & \\frac{\\rho \\left(y_{1} z_{1} + y_{2} z_{2} + y_{3} z_{3} + y_{4} z_{4}\\right)}{4} & 0 & 0 & 0 & 0 & 0 & 0\\\\\\frac{\\rho \\left(z_{1} + z_{2} + z_{3} + z_{4}\\right)}{4} & 0 & 0 & \\frac{\\rho \\left(x_{1} z_{1} + x_{2} z_{2} + x_{3} z_{3} + x_{4} z_{4}\\right)}{4} & \\frac{\\rho \\left(y_{1} z_{1} + y_{2} z_{2} + y_{3} z_{3} + y_{4} z_{4}\\right)}{4} & \\frac{\\rho \\left(z_{1}^{2} + z_{2}^{2} + z_{3}^{2} + z_{4}^{2}\\right)}{4} & 0 & 0 & 0 & 0 & 0 & 0\\\\0 & \\frac{\\rho \\left(x_{1} + x_{2} + x_{3} + x_{4}\\right)}{4} & 0 & 0 & 0 & 0 & \\frac{\\rho \\left(x_{1}^{2} + x_{2}^{2} + x_{3}^{2} + x_{4}^{2}\\right)}{4} & \\frac{\\rho \\left(x_{1} y_{1} + x_{2} y_{2} + x_{3} y_{3} + x_{4} y_{4}\\right)}{4} & \\frac{\\rho \\left(x_{1} z_{1} + x_{2} z_{2} + x_{3} z_{3} + x_{4} z_{4}\\right)}{4} & 0 & 0 & 0\\\\0 & \\frac{\\rho \\left(y_{1} + y_{2} + y_{3} + y_{4}\\right)}{4} & 0 & 0 & 0 & 0 & \\frac{\\rho \\left(x_{1} y_{1} + x_{2} y_{2} + x_{3} y_{3} + x_{4} y_{4}\\right)}{4} & \\frac{\\rho \\left(y_{1}^{2} + y_{2}^{2} + y_{3}^{2} + y_{4}^{2}\\right)}{4} & \\frac{\\rho \\left(y_{1} z_{1} + y_{2} z_{2} + y_{3} z_{3} + y_{4} z_{4}\\right)}{4} & 0 & 0 & 0\\\\0 & \\frac{\\rho \\left(z_{1} + z_{2} + z_{3} + z_{4}\\right)}{4} & 0 & 0 & 0 & 0 & \\frac{\\rho \\left(x_{1} z_{1} + x_{2} z_{2} + x_{3} z_{3} + x_{4} z_{4}\\right)}{4} & \\frac{\\rho \\left(y_{1} z_{1} + y_{2} z_{2} + y_{3} z_{3} + y_{4} z_{4}\\right)}{4} & \\frac{\\rho \\left(z_{1}^{2} + z_{2}^{2} + z_{3}^{2} + z_{4}^{2}\\right)}{4} & 0 & 0 & 0\\\\0 & 0 & \\frac{\\rho \\left(x_{1} + x_{2} + x_{3} + x_{4}\\right)}{4} & 0 & 0 & 0 & 0 & 0 & 0 & \\frac{\\rho \\left(x_{1}^{2} + x_{2}^{2} + x_{3}^{2} + x_{4}^{2}\\right)}{4} & \\frac{\\rho \\left(x_{1} y_{1} + x_{2} y_{2} + x_{3} y_{3} + x_{4} y_{4}\\right)}{4} & \\frac{\\rho \\left(x_{1} z_{1} + x_{2} z_{2} + x_{3} z_{3} + x_{4} z_{4}\\right)}{4}\\\\0 & 0 & \\frac{\\rho \\left(y_{1} + y_{2} + y_{3} + y_{4}\\right)}{4} & 0 & 0 & 0 & 0 & 0 & 0 & \\frac{\\rho \\left(x_{1} y_{1} + x_{2} y_{2} + x_{3} y_{3} + x_{4} y_{4}\\right)}{4} & \\frac{\\rho \\left(y_{1}^{2} + y_{2}^{2} + y_{3}^{2} + y_{4}^{2}\\right)}{4} & \\frac{\\rho \\left(y_{1} z_{1} + y_{2} z_{2} + y_{3} z_{3} + y_{4} z_{4}\\right)}{4}\\\\0 & 0 & \\frac{\\rho \\left(z_{1} + z_{2} + z_{3} + z_{4}\\right)}{4} & 0 & 0 & 0 & 0 & 0 & 0 & \\frac{\\rho \\left(x_{1} z_{1} + x_{2} z_{2} + x_{3} z_{3} + x_{4} z_{4}\\right)}{4} & \\frac{\\rho \\left(y_{1} z_{1} + y_{2} z_{2} + y_{3} z_{3} + y_{4} z_{4}\\right)}{4} & \\frac{\\rho \\left(z_{1}^{2} + z_{2}^{2} + z_{3}^{2} + z_{4}^{2}\\right)}{4}\\end{array}\\right]$"
      ],
      "text/plain": [
       "Matrix([\n",
       "[                      \\rho,                          0,                          0,             \\rho*(x1 + x2 + x3 + x4)/4,             \\rho*(y1 + y2 + y3 + y4)/4,             \\rho*(z1 + z2 + z3 + z4)/4,                                      0,                                      0,                                      0,                                      0,                                      0,                                      0],\n",
       "[                         0,                       \\rho,                          0,                                      0,                                      0,                                      0,             \\rho*(x1 + x2 + x3 + x4)/4,             \\rho*(y1 + y2 + y3 + y4)/4,             \\rho*(z1 + z2 + z3 + z4)/4,                                      0,                                      0,                                      0],\n",
       "[                         0,                          0,                       \\rho,                                      0,                                      0,                                      0,                                      0,                                      0,                                      0,             \\rho*(x1 + x2 + x3 + x4)/4,             \\rho*(y1 + y2 + y3 + y4)/4,             \\rho*(z1 + z2 + z3 + z4)/4],\n",
       "[\\rho*(x1 + x2 + x3 + x4)/4,                          0,                          0, \\rho*(x1**2 + x2**2 + x3**2 + x4**2)/4, \\rho*(x1*y1 + x2*y2 + x3*y3 + x4*y4)/4, \\rho*(x1*z1 + x2*z2 + x3*z3 + x4*z4)/4,                                      0,                                      0,                                      0,                                      0,                                      0,                                      0],\n",
       "[\\rho*(y1 + y2 + y3 + y4)/4,                          0,                          0, \\rho*(x1*y1 + x2*y2 + x3*y3 + x4*y4)/4, \\rho*(y1**2 + y2**2 + y3**2 + y4**2)/4, \\rho*(y1*z1 + y2*z2 + y3*z3 + y4*z4)/4,                                      0,                                      0,                                      0,                                      0,                                      0,                                      0],\n",
       "[\\rho*(z1 + z2 + z3 + z4)/4,                          0,                          0, \\rho*(x1*z1 + x2*z2 + x3*z3 + x4*z4)/4, \\rho*(y1*z1 + y2*z2 + y3*z3 + y4*z4)/4, \\rho*(z1**2 + z2**2 + z3**2 + z4**2)/4,                                      0,                                      0,                                      0,                                      0,                                      0,                                      0],\n",
       "[                         0, \\rho*(x1 + x2 + x3 + x4)/4,                          0,                                      0,                                      0,                                      0, \\rho*(x1**2 + x2**2 + x3**2 + x4**2)/4, \\rho*(x1*y1 + x2*y2 + x3*y3 + x4*y4)/4, \\rho*(x1*z1 + x2*z2 + x3*z3 + x4*z4)/4,                                      0,                                      0,                                      0],\n",
       "[                         0, \\rho*(y1 + y2 + y3 + y4)/4,                          0,                                      0,                                      0,                                      0, \\rho*(x1*y1 + x2*y2 + x3*y3 + x4*y4)/4, \\rho*(y1**2 + y2**2 + y3**2 + y4**2)/4, \\rho*(y1*z1 + y2*z2 + y3*z3 + y4*z4)/4,                                      0,                                      0,                                      0],\n",
       "[                         0, \\rho*(z1 + z2 + z3 + z4)/4,                          0,                                      0,                                      0,                                      0, \\rho*(x1*z1 + x2*z2 + x3*z3 + x4*z4)/4, \\rho*(y1*z1 + y2*z2 + y3*z3 + y4*z4)/4, \\rho*(z1**2 + z2**2 + z3**2 + z4**2)/4,                                      0,                                      0,                                      0],\n",
       "[                         0,                          0, \\rho*(x1 + x2 + x3 + x4)/4,                                      0,                                      0,                                      0,                                      0,                                      0,                                      0, \\rho*(x1**2 + x2**2 + x3**2 + x4**2)/4, \\rho*(x1*y1 + x2*y2 + x3*y3 + x4*y4)/4, \\rho*(x1*z1 + x2*z2 + x3*z3 + x4*z4)/4],\n",
       "[                         0,                          0, \\rho*(y1 + y2 + y3 + y4)/4,                                      0,                                      0,                                      0,                                      0,                                      0,                                      0, \\rho*(x1*y1 + x2*y2 + x3*y3 + x4*y4)/4, \\rho*(y1**2 + y2**2 + y3**2 + y4**2)/4, \\rho*(y1*z1 + y2*z2 + y3*z3 + y4*z4)/4],\n",
       "[                         0,                          0, \\rho*(z1 + z2 + z3 + z4)/4,                                      0,                                      0,                                      0,                                      0,                                      0,                                      0, \\rho*(x1*z1 + x2*z2 + x3*z3 + x4*z4)/4, \\rho*(y1*z1 + y2*z2 + y3*z3 + y4*z4)/4, \\rho*(z1**2 + z2**2 + z3**2 + z4**2)/4]])"
      ]
     },
     "metadata": {},
     "output_type": "display_data"
    }
   ],
   "source": [
    "display(sympy.Symbol(r\"\\rho\") * sympy.Matrix(J.T @ J) / x.shape[0])"
   ]
  },
  {
   "cell_type": "code",
   "execution_count": null,
   "metadata": {},
   "outputs": [],
   "source": []
  }
 ],
 "metadata": {
  "kernelspec": {
   "display_name": "Python 3",
   "language": "python",
   "name": "python3"
  },
  "language_info": {
   "codemirror_mode": {
    "name": "ipython",
    "version": 3
   },
   "file_extension": ".py",
   "mimetype": "text/x-python",
   "name": "python",
   "nbconvert_exporter": "python",
   "pygments_lexer": "ipython3",
   "version": "3.11.7"
  }
 },
 "nbformat": 4,
 "nbformat_minor": 2
}
