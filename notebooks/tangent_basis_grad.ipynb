{
 "cells": [
  {
   "cell_type": "code",
   "execution_count": 1,
   "id": "35b911ac",
   "metadata": {},
   "outputs": [],
   "source": [
    "import numpy\n",
    "import sympy\n",
    "from sympy import *\n",
    "from sympy.matrices import *\n",
    "from sympy.printing import ccode\n",
    "\n",
    "from generate_cpp_code import *\n",
    "from utils import *"
   ]
  },
  {
   "cell_type": "markdown",
   "id": "4e2d285b",
   "metadata": {},
   "source": [
    "## Point-Point"
   ]
  },
  {
   "cell_type": "markdown",
   "id": "8f808648",
   "metadata": {},
   "source": [
    "### 2D"
   ]
  },
  {
   "cell_type": "code",
   "execution_count": 2,
   "id": "0529cbcc",
   "metadata": {},
   "outputs": [],
   "source": [
    "p0 = numpy.array(sympy.symbols(\"p0_x p0_y\"))\n",
    "p1 = numpy.array(sympy.symbols(\"p1_x p1_y\"))\n",
    "x = numpy.concatenate([p0.T, p1.T])"
   ]
  },
  {
   "cell_type": "code",
   "execution_count": 3,
   "id": "d5f30896",
   "metadata": {},
   "outputs": [],
   "source": [
    "p0_to_p1 = normalize(p1 - p0)\n",
    "\n",
    "T = numpy.array([-p0_to_p1[1], p0_to_p1[0]]).reshape(-1, 1)"
   ]
  },
  {
   "cell_type": "code",
   "execution_count": 4,
   "id": "42db9ee8",
   "metadata": {},
   "outputs": [],
   "source": [
    "generators = [CXXJacobianGenerator(T, x, \"point_point_tangent_basis_2D_jacobian\")]"
   ]
  },
  {
   "cell_type": "markdown",
   "id": "f601fd47",
   "metadata": {},
   "source": [
    "### 3D"
   ]
  },
  {
   "cell_type": "code",
   "execution_count": 5,
   "id": "0f9af310",
   "metadata": {},
   "outputs": [],
   "source": [
    "p0 = numpy.array(sympy.symbols(\"p0_x p0_y p0_z\"))\n",
    "p1 = numpy.array(sympy.symbols(\"p1_x p1_y p1_z\"))\n",
    "x = numpy.concatenate([p0.T, p1.T])"
   ]
  },
  {
   "cell_type": "code",
   "execution_count": 6,
   "id": "c96391a1",
   "metadata": {},
   "outputs": [
    {
     "data": {
      "text/plain": [
       "(6, 3, 2)"
      ]
     },
     "execution_count": 6,
     "metadata": {},
     "output_type": "execute_result"
    }
   ],
   "source": [
    "T = numpy.empty([3, 2], dtype=object)\n",
    "\n",
    "p0_to_p1 = p1 - p0\n",
    "\n",
    "cross_x = numpy.cross(numpy.array([1, 0, 0]), p0_to_p1)\n",
    "cross_y = numpy.cross(numpy.array([0, 1, 0]), p0_to_p1)\n",
    "\n",
    "cross = numpy.array([\n",
    "    sympy.Piecewise(\n",
    "        (cross_x[i], sq_norm(cross_x) > sq_norm(cross_y)), \n",
    "        (cross_y[i], True))\n",
    "    for i in range(3)])\n",
    "\n",
    "T[:,0] = normalize(cross)\n",
    "T[:,1] = normalize(numpy.cross(p0_to_p1, cross))\n",
    "\n",
    "sympy.Matrix(T).diff(x).shape"
   ]
  },
  {
   "cell_type": "code",
   "execution_count": 7,
   "id": "ff0604c8",
   "metadata": {},
   "outputs": [],
   "source": [
    "generators.append(CXXJacobianGenerator(T, x, \"point_point_tangent_basis_3D_jacobian\"))"
   ]
  },
  {
   "cell_type": "markdown",
   "id": "9c84b471",
   "metadata": {},
   "source": [
    "## Point-Edge"
   ]
  },
  {
   "cell_type": "markdown",
   "id": "2e3c6fac",
   "metadata": {},
   "source": [
    "### 2D"
   ]
  },
  {
   "cell_type": "code",
   "execution_count": 8,
   "id": "55ce1ce3",
   "metadata": {},
   "outputs": [],
   "source": [
    "p = numpy.array(sympy.symbols(\"p_x p_y\"))\n",
    "e0 = numpy.array(sympy.symbols(\"e0_x e0_y\"))\n",
    "e1 = numpy.array(sympy.symbols(\"e1_x e1_y\"))\n",
    "x = numpy.concatenate([p.T, e0.T, e1.T])"
   ]
  },
  {
   "cell_type": "code",
   "execution_count": 9,
   "id": "7b845c4a",
   "metadata": {},
   "outputs": [],
   "source": [
    "T = numpy.empty([2, 1], dtype=object)\n",
    "\n",
    "T[:, 0] = normalize(e1 - e0)\n",
    "\n",
    "generators.append(CXXJacobianGenerator(T, x, \"point_edge_tangent_basis_2D_jacobian\"))"
   ]
  },
  {
   "cell_type": "markdown",
   "id": "51c598b7",
   "metadata": {},
   "source": [
    "### 3D"
   ]
  },
  {
   "cell_type": "code",
   "execution_count": 10,
   "id": "4ff855d7",
   "metadata": {},
   "outputs": [],
   "source": [
    "p = numpy.array(sympy.symbols(\"p_x p_y p_z\"))\n",
    "e0 = numpy.array(sympy.symbols(\"e0_x e0_y e0_z\"))\n",
    "e1 = numpy.array(sympy.symbols(\"e1_x e1_y e1_z\"))\n",
    "x = numpy.concatenate([p.T, e0.T, e1.T])"
   ]
  },
  {
   "cell_type": "code",
   "execution_count": 11,
   "id": "737aad1c",
   "metadata": {
    "scrolled": true
   },
   "outputs": [],
   "source": [
    "T = numpy.empty([3, 2], dtype=object)\n",
    "\n",
    "e = e1 - e0\n",
    "T[:, 0] = normalize(e)\n",
    "T[:, 1] = normalize(numpy.cross(e, p - e0))\n",
    "\n",
    "generators.append(CXXJacobianGenerator(T, x, \"point_edge_tangent_basis_3D_jacobian\"))"
   ]
  },
  {
   "cell_type": "markdown",
   "id": "dc6e87ed",
   "metadata": {},
   "source": [
    "## Edge-Edge"
   ]
  },
  {
   "cell_type": "code",
   "execution_count": 12,
   "id": "6bcac693",
   "metadata": {},
   "outputs": [],
   "source": [
    "ea0 = numpy.array(sympy.symbols(\"ea0_x ea0_y ea0_z\"))\n",
    "ea1 = numpy.array(sympy.symbols(\"ea1_x ea1_y ea1_z\"))\n",
    "eb0 = numpy.array(sympy.symbols(\"eb0_x eb0_y eb0_z\"))\n",
    "eb1 = numpy.array(sympy.symbols(\"eb1_x eb1_y eb1_z\"))\n",
    "x = numpy.concatenate([ea0.T, ea1.T, eb0.T, eb1.T])"
   ]
  },
  {
   "cell_type": "code",
   "execution_count": 13,
   "id": "cd07cb2a",
   "metadata": {},
   "outputs": [],
   "source": [
    "T = numpy.empty([3, 2], dtype=object)\n",
    "\n",
    "ea = ea1 - ea0\n",
    "T[:, 0] = normalize(ea)\n",
    "\n",
    "normal = numpy.cross(ea, eb1 - eb0);\n",
    "T[:, 1] = normalize(numpy.cross(normal, ea));\n",
    "\n",
    "generators.append(CXXJacobianGenerator(T, x, \"edge_edge_tangent_basis_jacobian\"))"
   ]
  },
  {
   "cell_type": "markdown",
   "id": "bcd647a7",
   "metadata": {},
   "source": [
    "## Point-Triangle"
   ]
  },
  {
   "cell_type": "code",
   "execution_count": 14,
   "id": "3207482c",
   "metadata": {},
   "outputs": [],
   "source": [
    "p = numpy.array(sympy.symbols(\"p_x p_y p_z\"))\n",
    "t0 = numpy.array(sympy.symbols(\"t0_x t0_y t0_z\"))\n",
    "t1 = numpy.array(sympy.symbols(\"t1_x t1_y t1_z\"))\n",
    "t2 = numpy.array(sympy.symbols(\"t2_x t2_y t2_z\"))\n",
    "x = numpy.concatenate([p.T, t0.T, t1.T, t2.T])"
   ]
  },
  {
   "cell_type": "code",
   "execution_count": 15,
   "id": "9ee95a7a",
   "metadata": {},
   "outputs": [],
   "source": [
    "e0 = t1 - t0\n",
    "normal = numpy.cross(e0, t2 - t0)\n",
    "T = numpy.array([normalize(e0), normalize(numpy.cross(normal, e0))]).T"
   ]
  },
  {
   "cell_type": "code",
   "execution_count": 16,
   "id": "0f6c947c",
   "metadata": {},
   "outputs": [],
   "source": [
    "generators.append(CXXJacobianGenerator(T, x, \"point_triangle_tangent_basis_jacobian\"))"
   ]
  },
  {
   "cell_type": "code",
   "execution_count": 17,
   "id": "9e95c122",
   "metadata": {},
   "outputs": [],
   "source": [
    "generate_hpp_file(generators, \"tangent_basis_grad.hpp\")\n",
    "generate_cpp_file(generators, \"tangent_basis_grad.cpp\")"
   ]
  }
 ],
 "metadata": {
  "kernelspec": {
   "display_name": "Python 3",
   "language": "python",
   "name": "python3"
  },
  "language_info": {
   "codemirror_mode": {
    "name": "ipython",
    "version": 3
   },
   "file_extension": ".py",
   "mimetype": "text/x-python",
   "name": "python",
   "nbconvert_exporter": "python",
   "pygments_lexer": "ipython3",
   "version": "3.11.1"
  },
  "varInspector": {
   "cols": {
    "lenName": 16,
    "lenType": 16,
    "lenVar": 40
   },
   "kernels_config": {
    "python": {
     "delete_cmd_postfix": "",
     "delete_cmd_prefix": "del ",
     "library": "var_list.py",
     "varRefreshCmd": "print(var_dic_list())"
    },
    "r": {
     "delete_cmd_postfix": ") ",
     "delete_cmd_prefix": "rm(",
     "library": "var_list.r",
     "varRefreshCmd": "cat(var_dic_list()) "
    }
   },
   "types_to_exclude": [
    "module",
    "function",
    "builtin_function_or_method",
    "instance",
    "_Feature"
   ],
   "window_display": false
  },
  "vscode": {
   "interpreter": {
    "hash": "d6ea818022cdff55a53271c8f07b73d2a935415fa70f5c4a81dac4a46ca819a5"
   }
  }
 },
 "nbformat": 4,
 "nbformat_minor": 5
}
