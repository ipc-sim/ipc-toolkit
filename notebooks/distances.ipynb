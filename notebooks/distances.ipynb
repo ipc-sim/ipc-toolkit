{
 "cells": [
  {
   "cell_type": "code",
   "execution_count": 6,
   "metadata": {},
   "outputs": [],
   "source": [
    "import numpy as np\n",
    "import sympy\n",
    "from generate_cpp_code import *"
   ]
  },
  {
   "cell_type": "code",
   "execution_count": 7,
   "metadata": {},
   "outputs": [],
   "source": [
    "def line_line_distance(ea0 : np.ndarray, ea1 : np.ndarray, eb0 : np.ndarray, eb1 : np.ndarray):\n",
    "    normal = np.cross(ea1 - ea0, eb1 - eb0)\n",
    "    line_to_line = (eb0 - ea0).dot(normal)\n",
    "    return line_to_line * line_to_line / normal.dot(normal)"
   ]
  },
  {
   "cell_type": "code",
   "execution_count": 8,
   "metadata": {},
   "outputs": [
    {
     "data": {
      "text/plain": [
       "array([ea0_x, ea0_y, ea0_z], dtype=object)"
      ]
     },
     "execution_count": 8,
     "metadata": {},
     "output_type": "execute_result"
    }
   ],
   "source": [
    "points = []\n",
    "for i in 'ab':\n",
    "    for j in range(2):\n",
    "        points.append(np.array(sympy.symbols([f'e{i}{j}_{d}' for d in \"xyz\"])))\n",
    "points = np.array(points).T\n",
    "points[:, 0]"
   ]
  },
  {
   "cell_type": "code",
   "execution_count": 9,
   "metadata": {},
   "outputs": [],
   "source": [
    "funcs = [CXXFunctionGenerator(\n",
    "    line_line_distance(points[:, 0], points[:, 1], points[:, 2], points[:, 3]), \n",
    "    points.flatten(order=\"F\"), \"line_line_distance\")]"
   ]
  },
  {
   "cell_type": "code",
   "execution_count": 10,
   "metadata": {},
   "outputs": [],
   "source": [
    "generate_hpp_file(funcs, \"distances.hpp\")\n",
    "generate_cpp_file(funcs, \"distances.cpp\")"
   ]
  },
  {
   "cell_type": "code",
   "execution_count": null,
   "metadata": {},
   "outputs": [],
   "source": []
  }
 ],
 "metadata": {
  "kernelspec": {
   "display_name": "Python 3",
   "language": "python",
   "name": "python3"
  },
  "language_info": {
   "codemirror_mode": {
    "name": "ipython",
    "version": 3
   },
   "file_extension": ".py",
   "mimetype": "text/x-python",
   "name": "python",
   "nbconvert_exporter": "python",
   "pygments_lexer": "ipython3",
   "version": "3.11.1"
  },
  "orig_nbformat": 4,
  "vscode": {
   "interpreter": {
    "hash": "5c7b89af1651d0b8571dde13640ecdccf7d5a6204171d6ab33e7c296e100e08a"
   }
  }
 },
 "nbformat": 4,
 "nbformat_minor": 2
}
