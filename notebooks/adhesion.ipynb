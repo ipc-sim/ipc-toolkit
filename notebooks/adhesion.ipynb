{
 "cells": [
  {
   "cell_type": "code",
   "execution_count": 10,
   "metadata": {},
   "outputs": [],
   "source": [
    "import sympy"
   ]
  },
  {
   "cell_type": "code",
   "execution_count": 11,
   "metadata": {},
   "outputs": [],
   "source": [
    "d, dhat_p, dhat_a, dmin = sympy.symbols(\"d \\hat{d}_p \\hat{d}_a d_{\\\\min}\")\n",
    "a2 = sympy.Symbol(\"a_2\")"
   ]
  },
  {
   "cell_type": "code",
   "execution_count": 12,
   "metadata": {},
   "outputs": [],
   "source": [
    "def a(d, dhat_p, dhat_a, a2):\n",
    "    b2 = -2 * a2 * dhat_a\n",
    "    c2 = a2 * dhat_a * dhat_a\n",
    "    return (a2 * d + b2) * d + c2"
   ]
  },
  {
   "cell_type": "code",
   "execution_count": 13,
   "metadata": {},
   "outputs": [
    {
     "data": {
      "text/latex": [
       "$\\displaystyle - 2 \\hat{d}_a a_{2} + 2 a_{2} d$"
      ],
      "text/plain": [
       "-2*\\hat{d}_a*a_2 + 2*a_2*d"
      ]
     },
     "metadata": {},
     "output_type": "display_data"
    },
    {
     "data": {
      "text/latex": [
       "$\\displaystyle 2 a_{2} \\left(- \\hat{d}_a + \\hat{d}_p\\right) = Y \\varepsilon_{c}$"
      ],
      "text/plain": [
       "Eq(2*a_2*(-\\hat{d}_a + \\hat{d}_p), Y*\\varepsilon_c)"
      ]
     },
     "metadata": {},
     "output_type": "display_data"
    },
    {
     "data": {
      "text/latex": [
       "$\\displaystyle - \\frac{Y \\varepsilon_{c}}{2 \\hat{d}_a - 2 \\hat{d}_p}$"
      ],
      "text/plain": [
       "-Y*\\varepsilon_c/(2*\\hat{d}_a - 2*\\hat{d}_p)"
      ]
     },
     "metadata": {},
     "output_type": "display_data"
    }
   ],
   "source": [
    "Y, eps_c = sympy.symbols(\"Y \\\\varepsilon_c\")\n",
    "display(a(d, dhat_p, dhat_a, a2).diff(d))\n",
    "eq = sympy.Eq((a(d, dhat_p, dhat_a, a2).diff(d).subs({\"d\": dhat_p})).simplify(), Y * eps_c)\n",
    "display(eq)\n",
    "unsqr_sol = sympy.solve(eq, a2)\n",
    "display(unsqr_sol[0].simplify())"
   ]
  },
  {
   "cell_type": "code",
   "execution_count": 14,
   "metadata": {},
   "outputs": [
    {
     "data": {
      "text/latex": [
       "$\\displaystyle 4 \\hat{d}_p a_{2} \\left(- \\hat{d}_a^{2} + \\hat{d}_p^{2}\\right) = Y \\varepsilon_{c}$"
      ],
      "text/plain": [
       "Eq(4*\\hat{d}_p*a_2*(-\\hat{d}_a**2 + \\hat{d}_p**2), Y*\\varepsilon_c)"
      ]
     },
     "metadata": {},
     "output_type": "display_data"
    },
    {
     "data": {
      "text/latex": [
       "$\\displaystyle - \\frac{Y \\varepsilon_{c}}{4 \\hat{d}_p \\left(\\hat{d}_a^{2} - \\hat{d}_p^{2}\\right)}$"
      ],
      "text/plain": [
       "-Y*\\varepsilon_c/(4*\\hat{d}_p*(\\hat{d}_a**2 - \\hat{d}_p**2))"
      ]
     },
     "metadata": {},
     "output_type": "display_data"
    }
   ],
   "source": [
    "eq = sympy.Eq((a(d**2, dhat_p**2, dhat_a**2, a2).diff(d).subs({\"d\": dhat_p})).simplify(), Y * eps_c)\n",
    "display(eq)\n",
    "sqr_sol = sympy.solve(eq, a2)\n",
    "display(sqr_sol[0].simplify())"
   ]
  },
  {
   "cell_type": "code",
   "execution_count": 15,
   "metadata": {},
   "outputs": [
    {
     "data": {
      "text/latex": [
       "$\\displaystyle 4 a_{2} \\left(\\hat{d}_p + d_{\\min}\\right) \\left(- \\hat{d}_a \\left(\\hat{d}_a + 2 d_{\\min}\\right) - d_{\\min}^{2} + \\left(\\hat{d}_p + d_{\\min}\\right)^{2}\\right) = Y \\varepsilon_{c}$"
      ],
      "text/plain": [
       "Eq(4*a_2*(\\hat{d}_p + d_{\\min})*(-\\hat{d}_a*(\\hat{d}_a + 2*d_{\\min}) - d_{\\min}**2 + (\\hat{d}_p + d_{\\min})**2), Y*\\varepsilon_c)"
      ]
     },
     "metadata": {},
     "output_type": "display_data"
    },
    {
     "data": {
      "text/latex": [
       "$\\displaystyle - \\frac{Y \\varepsilon_{c}}{4 \\hat{d}_a^{2} \\hat{d}_p + 4 \\hat{d}_a^{2} d_{\\min} + 8 \\hat{d}_a \\hat{d}_p d_{\\min} + 8 \\hat{d}_a d_{\\min}^{2} - 4 \\hat{d}_p^{3} - 12 \\hat{d}_p^{2} d_{\\min} - 8 \\hat{d}_p d_{\\min}^{2}}$"
      ],
      "text/plain": [
       "-Y*\\varepsilon_c/(4*\\hat{d}_a**2*\\hat{d}_p + 4*\\hat{d}_a**2*d_{\\min} + 8*\\hat{d}_a*\\hat{d}_p*d_{\\min} + 8*\\hat{d}_a*d_{\\min}**2 - 4*\\hat{d}_p**3 - 12*\\hat{d}_p**2*d_{\\min} - 8*\\hat{d}_p*d_{\\min}**2)"
      ]
     },
     "metadata": {},
     "output_type": "display_data"
    }
   ],
   "source": [
    "eq = sympy.Eq((a(\n",
    "        d**2 - dmin**2,\n",
    "        2 * dmin * dhat_p + dhat_p**2, \n",
    "        2 * dmin * dhat_a + dhat_a**2, \n",
    "        a2\n",
    "    ).diff(d).subs({\"d\": dhat_p + dmin})).simplify(), Y * eps_c)\n",
    "display(eq)\n",
    "sol = sympy.solve(eq, a2)\n",
    "sympy_a2 = sol[0].simplify()\n",
    "display(sympy_a2)"
   ]
  },
  {
   "cell_type": "code",
   "execution_count": 16,
   "metadata": {},
   "outputs": [
    {
     "data": {
      "text/latex": [
       "$\\displaystyle \\frac{Y \\varepsilon_{c}}{\\left(4 \\hat{d}_p + 4 d_{\\min}\\right) \\left(- \\hat{d}_a^{2} - 2 \\hat{d}_a d_{\\min} + \\hat{d}_p^{2} + 2 \\hat{d}_p d_{\\min}\\right)}$"
      ],
      "text/plain": [
       "Y*\\varepsilon_c/((4*\\hat{d}_p + 4*d_{\\min})*(-\\hat{d}_a**2 - 2*\\hat{d}_a*d_{\\min} + \\hat{d}_p**2 + 2*\\hat{d}_p*d_{\\min}))"
      ]
     },
     "metadata": {},
     "output_type": "display_data"
    }
   ],
   "source": [
    "arg_dhat_p = 2 * dmin * dhat_p + dhat_p * dhat_p\n",
    "arg_dhat_a = 2 * dmin * dhat_a + dhat_a * dhat_a\n",
    "my_a2 = (Y * eps_c / (4 * (dhat_p + dmin) * (arg_dhat_p - arg_dhat_a)))\n",
    "display(my_a2)"
   ]
  },
  {
   "cell_type": "code",
   "execution_count": 17,
   "metadata": {},
   "outputs": [
    {
     "data": {
      "text/plain": [
       "True"
      ]
     },
     "execution_count": 17,
     "metadata": {},
     "output_type": "execute_result"
    }
   ],
   "source": [
    "(sympy_a2 - my_a2).simplify() == 0"
   ]
  },
  {
   "cell_type": "code",
   "execution_count": 23,
   "metadata": {},
   "outputs": [
    {
     "data": {
      "text/latex": [
       "$\\displaystyle - \\frac{Y \\varepsilon_{c}}{4 \\hat{d}_p \\left(\\hat{d}_a^{2} - \\hat{d}_p^{2}\\right)}$"
      ],
      "text/plain": [
       "-Y*\\varepsilon_c/(4*\\hat{d}_p*(\\hat{d}_a**2 - \\hat{d}_p**2))"
      ]
     },
     "execution_count": 23,
     "metadata": {},
     "output_type": "execute_result"
    }
   ],
   "source": [
    "diff = (sqr_sol[0] / unsqr_sol[0]).simplify()\n",
    "sqr_sol[0].simplify()"
   ]
  },
  {
   "cell_type": "code",
   "execution_count": 22,
   "metadata": {},
   "outputs": [
    {
     "data": {
      "text/latex": [
       "$\\displaystyle - \\frac{Y \\varepsilon_{c}}{4 \\hat{d}_p \\left(\\hat{d}_a - \\hat{d}_p\\right) \\left(\\hat{d}_a + \\hat{d}_p\\right)}$"
      ],
      "text/plain": [
       "-Y*\\varepsilon_c/(4*\\hat{d}_p*(\\hat{d}_a - \\hat{d}_p)*(\\hat{d}_a + \\hat{d}_p))"
      ]
     },
     "execution_count": 22,
     "metadata": {},
     "output_type": "execute_result"
    }
   ],
   "source": [
    "(unsqr_sol[0] * diff).simplify()"
   ]
  },
  {
   "cell_type": "code",
   "execution_count": null,
   "metadata": {},
   "outputs": [],
   "source": []
  }
 ],
 "metadata": {
  "kernelspec": {
   "display_name": "Python 3",
   "language": "python",
   "name": "python3"
  },
  "language_info": {
   "codemirror_mode": {
    "name": "ipython",
    "version": 3
   },
   "file_extension": ".py",
   "mimetype": "text/x-python",
   "name": "python",
   "nbconvert_exporter": "python",
   "pygments_lexer": "ipython3",
   "version": "3.11.3"
  },
  "orig_nbformat": 4
 },
 "nbformat": 4,
 "nbformat_minor": 2
}
